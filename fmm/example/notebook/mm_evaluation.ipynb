{
 "cells": [
  {
   "cell_type": "code",
   "execution_count": 1,
   "metadata": {},
   "outputs": [
    {
     "name": "stdout",
     "output_type": "stream",
     "text": [
      "[2025-03-12 16:41:27.074] [info] [network.cpp:72] Read network from file ../osmnx_example/rome/edges.shp\n",
      "Nodes 142626 edges 338130\n",
      "[2025-03-12 16:41:30.226] [info] [network.cpp:172] Number of edges 338130 nodes 142626\n",
      "[2025-03-12 16:41:30.226] [info] [network.cpp:173] Field index: id 20 source 0 target 1\n",
      "[2025-03-12 16:41:30.549] [info] [network.cpp:176] Read network done.\n",
      "[2025-03-12 16:41:30.550] [info] [network_graph.cpp:17] Construct graph from network edges start\n",
      "[2025-03-12 16:41:30.590] [info] [network_graph.cpp:30] Graph nodes 142626 edges 338130\n",
      "[2025-03-12 16:41:30.590] [info] [network_graph.cpp:31] Construct graph from network edges end\n"
     ]
    }
   ],
   "source": [
    "from fmm import Network,NetworkGraph,FastMapMatch,FastMapMatchConfig,UBODT\n",
    "import pandas as pd\n",
    "from shapely.wkt import loads\n",
    "from shapely.geometry import LineString\n",
    "import tracers as tr\n",
    "import numpy as np\n",
    "import os\n",
    "import json\n",
    "import statistics\n",
    "\n",
    "#load network data and graph \n",
    "network = Network(\"../osmnx_example/rome/edges.shp\",\"fid\", \"u\", \"v\")\n",
    "print(\"Nodes {} edges {}\".format(network.get_node_count(),network.get_edge_count()))\n",
    "graph = NetworkGraph(network)"
   ]
  },
  {
   "cell_type": "code",
   "execution_count": 2,
   "metadata": {},
   "outputs": [
    {
     "name": "stdout",
     "output_type": "stream",
     "text": [
      "[2025-03-12 16:41:43.077] [info] [ubodt.cpp:208] Reading UBODT file (CSV format) from ../osmnx_example/rome/ubodt.txt\n",
      "[2025-03-12 16:41:44.040] [info] [ubodt.cpp:236] Read rows 1000000\n",
      "[2025-03-12 16:41:44.946] [info] [ubodt.cpp:236] Read rows 2000000\n",
      "[2025-03-12 16:41:45.816] [info] [ubodt.cpp:236] Read rows 3000000\n",
      "[2025-03-12 16:41:46.752] [info] [ubodt.cpp:236] Read rows 4000000\n",
      "[2025-03-12 16:41:47.651] [info] [ubodt.cpp:236] Read rows 5000000\n",
      "[2025-03-12 16:41:48.645] [info] [ubodt.cpp:236] Read rows 6000000\n",
      "[2025-03-12 16:41:49.506] [info] [ubodt.cpp:236] Read rows 7000000\n",
      "[2025-03-12 16:41:50.352] [info] [ubodt.cpp:236] Read rows 8000000\n",
      "[2025-03-12 16:41:51.249] [info] [ubodt.cpp:236] Read rows 9000000\n",
      "[2025-03-12 16:41:52.120] [info] [ubodt.cpp:236] Read rows 10000000\n",
      "[2025-03-12 16:41:52.946] [info] [ubodt.cpp:236] Read rows 11000000\n",
      "[2025-03-12 16:41:53.789] [info] [ubodt.cpp:236] Read rows 12000000\n",
      "[2025-03-12 16:41:54.654] [info] [ubodt.cpp:236] Read rows 13000000\n",
      "[2025-03-12 16:41:55.522] [info] [ubodt.cpp:236] Read rows 14000000\n",
      "[2025-03-12 16:41:56.359] [info] [ubodt.cpp:236] Read rows 15000000\n",
      "[2025-03-12 16:41:57.327] [info] [ubodt.cpp:236] Read rows 16000000\n",
      "[2025-03-12 16:41:58.252] [info] [ubodt.cpp:236] Read rows 17000000\n",
      "[2025-03-12 16:41:59.119] [info] [ubodt.cpp:236] Read rows 18000000\n",
      "[2025-03-12 16:41:59.937] [info] [ubodt.cpp:236] Read rows 19000000\n",
      "[2025-03-12 16:42:00.800] [info] [ubodt.cpp:236] Read rows 20000000\n",
      "[2025-03-12 16:42:01.649] [info] [ubodt.cpp:236] Read rows 21000000\n",
      "[2025-03-12 16:42:02.592] [info] [ubodt.cpp:236] Read rows 22000000\n",
      "[2025-03-12 16:42:03.501] [info] [ubodt.cpp:236] Read rows 23000000\n",
      "[2025-03-12 16:42:04.578] [info] [ubodt.cpp:236] Read rows 24000000\n",
      "[2025-03-12 16:42:05.572] [info] [ubodt.cpp:236] Read rows 25000000\n",
      "[2025-03-12 16:42:06.488] [info] [ubodt.cpp:236] Read rows 26000000\n",
      "[2025-03-12 16:42:07.318] [info] [ubodt.cpp:236] Read rows 27000000\n",
      "[2025-03-12 16:42:08.220] [info] [ubodt.cpp:236] Read rows 28000000\n",
      "[2025-03-12 16:42:09.011] [info] [ubodt.cpp:236] Read rows 29000000\n",
      "[2025-03-12 16:42:09.934] [info] [ubodt.cpp:236] Read rows 30000000\n",
      "[2025-03-12 16:42:10.770] [info] [ubodt.cpp:236] Read rows 31000000\n",
      "[2025-03-12 16:42:11.790] [info] [ubodt.cpp:236] Read rows 32000000\n",
      "[2025-03-12 16:42:12.755] [info] [ubodt.cpp:236] Read rows 33000000\n",
      "[2025-03-12 16:42:13.777] [info] [ubodt.cpp:236] Read rows 34000000\n",
      "[2025-03-12 16:42:14.756] [info] [ubodt.cpp:236] Read rows 35000000\n",
      "[2025-03-12 16:42:15.715] [info] [ubodt.cpp:236] Read rows 36000000\n",
      "[2025-03-12 16:42:16.692] [info] [ubodt.cpp:236] Read rows 37000000\n",
      "[2025-03-12 16:42:17.632] [info] [ubodt.cpp:236] Read rows 38000000\n",
      "[2025-03-12 16:42:18.432] [info] [ubodt.cpp:236] Read rows 39000000\n",
      "[2025-03-12 16:42:19.380] [info] [ubodt.cpp:236] Read rows 40000000\n",
      "[2025-03-12 16:42:20.268] [info] [ubodt.cpp:236] Read rows 41000000\n",
      "[2025-03-12 16:42:21.082] [info] [ubodt.cpp:236] Read rows 42000000\n",
      "[2025-03-12 16:42:21.904] [info] [ubodt.cpp:236] Read rows 43000000\n",
      "[2025-03-12 16:42:22.750] [info] [ubodt.cpp:236] Read rows 44000000\n",
      "[2025-03-12 16:42:23.559] [info] [ubodt.cpp:236] Read rows 45000000\n",
      "[2025-03-12 16:42:24.481] [info] [ubodt.cpp:236] Read rows 46000000\n",
      "[2025-03-12 16:42:25.369] [info] [ubodt.cpp:236] Read rows 47000000\n",
      "[2025-03-12 16:42:26.320] [info] [ubodt.cpp:236] Read rows 48000000\n",
      "[2025-03-12 16:42:27.291] [info] [ubodt.cpp:236] Read rows 49000000\n",
      "[2025-03-12 16:42:28.274] [info] [ubodt.cpp:236] Read rows 50000000\n",
      "[2025-03-12 16:42:29.314] [info] [ubodt.cpp:236] Read rows 51000000\n",
      "[2025-03-12 16:42:30.488] [info] [ubodt.cpp:236] Read rows 52000000\n",
      "[2025-03-12 16:42:31.389] [info] [ubodt.cpp:236] Read rows 53000000\n",
      "[2025-03-12 16:42:32.292] [info] [ubodt.cpp:236] Read rows 54000000\n",
      "[2025-03-12 16:42:33.271] [info] [ubodt.cpp:236] Read rows 55000000\n",
      "[2025-03-12 16:42:34.232] [info] [ubodt.cpp:236] Read rows 56000000\n",
      "[2025-03-12 16:42:35.267] [info] [ubodt.cpp:236] Read rows 57000000\n",
      "[2025-03-12 16:42:36.321] [info] [ubodt.cpp:236] Read rows 58000000\n",
      "[2025-03-12 16:42:37.326] [info] [ubodt.cpp:236] Read rows 59000000\n",
      "[2025-03-12 16:42:38.177] [info] [ubodt.cpp:236] Read rows 60000000\n",
      "[2025-03-12 16:42:39.076] [info] [ubodt.cpp:236] Read rows 61000000\n",
      "[2025-03-12 16:42:40.035] [info] [ubodt.cpp:236] Read rows 62000000\n",
      "[2025-03-12 16:42:41.055] [info] [ubodt.cpp:236] Read rows 63000000\n",
      "[2025-03-12 16:42:41.921] [info] [ubodt.cpp:236] Read rows 64000000\n",
      "[2025-03-12 16:42:42.787] [info] [ubodt.cpp:236] Read rows 65000000\n",
      "[2025-03-12 16:42:43.632] [info] [ubodt.cpp:236] Read rows 66000000\n",
      "[2025-03-12 16:42:44.502] [info] [ubodt.cpp:236] Read rows 67000000\n",
      "[2025-03-12 16:42:45.407] [info] [ubodt.cpp:236] Read rows 68000000\n",
      "[2025-03-12 16:42:45.719] [warning] [ubodt.cpp:242] Load factor is too large.\n",
      "[2025-03-12 16:42:45.719] [info] [ubodt.cpp:243] Finish reading UBODT with rows 68284973\n"
     ]
    }
   ],
   "source": [
    "ubodt = UBODT.read_ubodt_csv(\"../osmnx_example/rome/ubodt.txt\")"
   ]
  },
  {
   "cell_type": "code",
   "execution_count": null,
   "metadata": {},
   "outputs": [
    {
     "name": "stdout",
     "output_type": "stream",
     "text": [
      "Map matching succeeded for user 4\n",
      "[2025-03-12 15:32:23.316] [warning] [fmm_algorithm.cpp:290] Traj 0 unmatched as point 212 and 213 not connected\n",
      "[2025-03-12 15:32:24.757] [warning] [fmm_algorithm.cpp:290] Traj 0 unmatched as point 17 and 18 not connected\n",
      "[2025-03-12 15:32:25.913] [warning] [fmm_algorithm.cpp:290] Traj 0 unmatched as point 172 and 173 not connected\n",
      "Map matching succeeded for user 44\n",
      "[2025-03-12 15:32:27.495] [warning] [fmm_algorithm.cpp:290] Traj 0 unmatched as point 355 and 356 not connected\n",
      "[2025-03-12 15:32:28.555] [warning] [fmm_algorithm.cpp:290] Traj 0 unmatched as point 120 and 121 not connected\n",
      "[2025-03-12 15:32:29.448] [warning] [fmm_algorithm.cpp:290] Traj 0 unmatched as point 517 and 518 not connected\n",
      "[2025-03-12 15:32:30.174] [warning] [fmm_algorithm.cpp:290] Traj 0 unmatched as point 259 and 260 not connected\n",
      "[2025-03-12 15:32:31.063] [warning] [fmm_algorithm.cpp:290] Traj 0 unmatched as point 356 and 357 not connected\n",
      "[2025-03-12 15:32:33.168] [warning] [fmm_algorithm.cpp:290] Traj 0 unmatched as point 152 and 153 not connected\n",
      "Map matching succeeded for user 167\n",
      "[2025-03-12 15:32:34.887] [warning] [fmm_algorithm.cpp:290] Traj 0 unmatched as point 415 and 416 not connected\n",
      "[2025-03-12 15:32:35.406] [warning] [fmm_algorithm.cpp:290] Traj 0 unmatched as point 863 and 864 not connected\n",
      "Map matching succeeded for user 183\n",
      "[2025-03-12 15:32:37.150] [warning] [fmm_algorithm.cpp:290] Traj 0 unmatched as point 60 and 61 not connected\n",
      "[2025-03-12 15:32:38.827] [warning] [fmm_algorithm.cpp:290] Traj 0 unmatched as point 154 and 155 not connected\n",
      "[2025-03-12 15:32:39.860] [warning] [fmm_algorithm.cpp:290] Traj 0 unmatched as point 194 and 195 not connected\n",
      "Map matching succeeded for user 220\n",
      "[2025-03-12 15:32:41.594] [warning] [fmm_algorithm.cpp:290] Traj 0 unmatched as point 75 and 76 not connected\n",
      "Map matching succeeded for user 233\n",
      "[2025-03-12 15:32:42.757] [warning] [fmm_algorithm.cpp:290] Traj 0 unmatched as point 565 and 566 not connected\n",
      "[2025-03-12 15:32:43.826] [warning] [fmm_algorithm.cpp:290] Traj 0 unmatched as point 158 and 159 not connected\n",
      "[2025-03-12 15:32:46.763] [warning] [fmm_algorithm.cpp:290] Traj 0 unmatched as point 242 and 243 not connected\n",
      "[2025-03-12 15:32:47.361] [warning] [fmm_algorithm.cpp:290] Traj 0 unmatched as point 207 and 208 not connected\n",
      "Map matching succeeded for user 306\n",
      "[2025-03-12 15:32:49.037] [warning] [fmm_algorithm.cpp:290] Traj 0 unmatched as point 221 and 222 not connected\n",
      "[2025-03-12 15:32:50.022] [warning] [fmm_algorithm.cpp:290] Traj 0 unmatched as point 202 and 203 not connected\n",
      "[2025-03-12 15:32:51.072] [warning] [fmm_algorithm.cpp:290] Traj 0 unmatched as point 28 and 29 not connected\n",
      "[2025-03-12 15:32:51.716] [warning] [fmm_algorithm.cpp:290] Traj 0 unmatched as point 822 and 823 not connected\n",
      "map matching failed for all users\n",
      "[2025-03-12 15:32:52.343] [warning] [fmm_algorithm.cpp:290] Traj 0 unmatched as point 352 and 353 not connected\n"
     ]
    }
   ],
   "source": [
    "with open('datapath.json', 'r') as f:\n",
    "    data = json.load(f)\n",
    "\n",
    "root_path = data['data_path']\n",
    "\n",
    "# these users wont give an empty mm result for the last 2000 points\n",
    "valid_users_list = [4, 21, 24, 44, 70, 120, 144, 145, 153, 156, 167, 173, 183, 200, 201, 205, 220, 233, 245, 250, 264, 275, 283, 304, 306, 317, 353, 363, 371]\n",
    "\n",
    "total_precision = []\n",
    "total_recall = []\n",
    "total_f1 = []\n",
    "total_accuracy = []\n",
    "ep_list = []\n",
    "error_list = []\n",
    "valid_users = 0\n",
    "\n",
    "for user_id in valid_users_list:\n",
    "    user_path = f'{user_id}.csv'\n",
    "    file_path = os.path.join(root_path, user_path)\n",
    "    if os.path.exists(file_path):\n",
    "        df = pd.read_csv(file_path, sep=\",\")\n",
    "        df = df.rename(columns={\"ID\": \"id\", \"Latitude\": \"x\", \"Longitude\": \"y\", \"Timestamp\": \"timestamp\"})\n",
    "\n",
    "        # Convert timestamp to epoch and sort by timestamp\n",
    "        df[\"timestamp\"] = pd.to_datetime(df[\"timestamp\"], format=\"ISO8601\", errors=\"coerce\").astype(int) / 10**9\n",
    "        df[\"timestamp\"] = df[\"timestamp\"].astype(int)\n",
    "        df = df.sort_values(by=\"timestamp\")\n",
    "\n",
    "        # Limit to first 2000 points \n",
    "        df = df.iloc[:1000]\n",
    "\n",
    "        # Create wkt from lat lon data\n",
    "        original_linestring = LineString(zip(df[\"y\"], df[\"x\"]))\n",
    "        original_wkt = original_linestring.wkt\n",
    "        model = FastMapMatch(network, graph, ubodt)\n",
    "\n",
    "        # Configuration params\n",
    "        k = 30\n",
    "        radius = 400 / 100_000\n",
    "        gps_error = 10 / 100_000\n",
    "\n",
    "        fmm_config = FastMapMatchConfig(k, radius, gps_error, perturbation=False, reverse_tolerance=10)\n",
    "\n",
    "        # mm on the original trajectory \n",
    "        result = model.match_wkt(original_wkt, fmm_config)\n",
    "\n",
    "        if result.cpath: \n",
    "            print(f\"Map matching succeeded for user {user_id}\") \n",
    "            gt = loads(result.mgeom.export_wkt())  \n",
    "\n",
    "            # Apply perturbation\n",
    "            (space_noise, time_min_period) = (70.0, 30)\n",
    "            trace = df[['y', 'x', 'timestamp']].to_numpy()\n",
    "            trace = [tuple(x) for x in trace]\n",
    "            trace = [(x[0], x[1], int(x[2])) for x in trace]\n",
    "\n",
    "            perturbed_traces = tr.perturb_traces((space_noise, time_min_period), [trace], picker_str='closest')\n",
    "            perturbed_trace = perturbed_traces[0]\n",
    "\n",
    "            df_pert = pd.DataFrame(perturbed_trace, columns=[\"y\", \"x\", \"timestamp\"])\n",
    "            df_pert[\"id\"] = df[\"id\"].iloc[0]\n",
    "\n",
    "            perturbed_linestring = LineString(zip(df_pert[\"y\"], df_pert[\"x\"]))\n",
    "            perturbed_wkt = perturbed_linestring.wkt\n",
    "\n",
    "            obfuscation_stdev = 10 / 100_000\n",
    "\n",
    "            fmm_config_pert = FastMapMatchConfig(k, radius, obfuscation_stdev, perturbation=True, reverse_tolerance=10)\n",
    "            result_pert = model.match_wkt(perturbed_wkt, fmm_config_pert)\n",
    "\n",
    "            if result_pert.cpath: \n",
    "                perturbed_geom = loads(result_pert.mgeom.export_wkt())\n",
    "\n",
    "                # Calculate intersection length between GT and perturbed matched result\n",
    "                intersection = gt.intersection(perturbed_geom).length\n",
    "                gt_length = gt.length\n",
    "                mm_length = perturbed_geom.length\n",
    "\n",
    "                # Calculate precision, recall, and F1 score\n",
    "                precision = intersection / mm_length \n",
    "                recall = intersection / gt_length \n",
    "                f1 = (2 * precision * recall) / (precision + recall)\n",
    "                accuracy = intersection/max(mm_length,gt_length)\n",
    "\n",
    "                print(f\"user {user_id}, F1: {f1}\")\n",
    "                total_precision.append(precision)\n",
    "                total_recall.append(recall)\n",
    "                total_f1.append(f1)\n",
    "                total_accuracy.append(accuracy)\n",
    "\n",
    "                candidates = result_pert.candidates\n",
    "                for candidate in candidates:\n",
    "                    ep_list.append(candidate.ep)\n",
    "                    error_list.append(candidate.error)\n",
    "\n",
    "                valid_users += 1\n",
    "\n",
    "# precision, recall and f1\n",
    "if valid_users > 0:\n",
    "    med_precision = statistics.median(total_precision)  \n",
    "    med_recall = statistics.median(total_recall)        \n",
    "    med_f1 = statistics.median(total_f1)\n",
    "    med_accuracy =  statistics.median(total_accuracy)               \n",
    "    print(f\"Valid users: {valid_users}\")\n",
    "    print(f\"Median Precision: {med_precision}\")\n",
    "    print(f\"Median Recall: {med_recall}\")\n",
    "    print(f\"Median F1 Score: {med_f1}\")\n",
    "    print(f\"Median Accuracy: {med_accuracy}\")\n",
    "else:\n",
    "    print(\"map matching failed for all users\")"
   ]
  },
  {
   "cell_type": "code",
   "execution_count": 6,
   "metadata": {},
   "outputs": [
    {
     "data": {
      "image/png": "[encoded data removed]",
      "text/plain": [
       "<Figure size 640x480 with 1 Axes>"
      ]
     },
     "metadata": {},
     "output_type": "display_data"
    },
    {
     "data": {
      "image/png": "[encoded data removed]",
      "text/plain": [
       "<Figure size 640x480 with 1 Axes>"
      ]
     },
     "metadata": {},
     "output_type": "display_data"
    }
   ],
   "source": [
    "from matplotlib import pyplot as plt\n",
    "plt.hist(ep_list,bins=5000,density=True)\n",
    "plt.show()\n",
    "\n",
    "plt.hist(error_list,bins=5000,density=True)\n",
    "plt.show()"
   ]
  },
  {
   "cell_type": "code",
   "execution_count": 6,
   "metadata": {},
   "outputs": [
    {
     "data": {
      "image/png": "[encoded data removed]",
      "text/plain": [
       "<Figure size 800x500 with 1 Axes>"
      ]
     },
     "metadata": {},
     "output_type": "display_data"
    }
   ],
   "source": [
    "import matplotlib.pyplot as plt\n",
    "\n",
    "plt.figure(figsize=(8, 5))\n",
    "plt.hist(total_f1, bins=29)\n",
    "plt.xlabel(\"Distribution of F1 scores of different users\")  \n",
    "plt.grid()\n",
    "plt.ylabel(\"Frequency\")\n",
    "plt.xlabel(\"F1 score\")\n",
    "plt.show()"
   ]
  }
 ],
 "metadata": {
  "kernelspec": {
   "display_name": ".venv",
   "language": "python",
   "name": "python3"
  },
  "language_info": {
   "codemirror_mode": {
    "name": "ipython",
    "version": 3
   },
   "file_extension": ".py",
   "mimetype": "text/x-python",
   "name": "python",
   "nbconvert_exporter": "python",
   "pygments_lexer": "ipython3",
   "version": "3.12.3"
  }
 },
 "nbformat": 4,
 "nbformat_minor": 2
}
