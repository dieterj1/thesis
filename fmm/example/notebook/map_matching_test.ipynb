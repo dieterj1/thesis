{
 "cells": [
  {
   "cell_type": "code",
   "execution_count": 1,
   "metadata": {},
   "outputs": [],
   "source": [
    "from fmm import Network,NetworkGraph,FastMapMatch,FastMapMatchConfig,UBODT,GPSConfig,ResultConfig\n",
    "import pandas as pd"
   ]
  },
  {
   "cell_type": "code",
   "execution_count": 2,
   "metadata": {},
   "outputs": [
    {
     "name": "stdout",
     "output_type": "stream",
     "text": [
      "[2025-02-19 15:18:15.257] [info] [network.cpp:72] Read network from file ../osmnx_example/stockholm/edges.shp\n",
      "Nodes 649 edges 1308\n",
      "[2025-02-19 15:18:15.303] [info] [network.cpp:172] Number of edges 1308 nodes 649\n",
      "[2025-02-19 15:18:15.303] [info] [network.cpp:173] Field index: id 15 source 12 target 13\n",
      "[2025-02-19 15:18:15.304] [info] [network.cpp:176] Read network done.\n",
      "[2025-02-19 15:18:15.306] [info] [network_graph.cpp:17] Construct graph from network edges start\n",
      "[2025-02-19 15:18:15.306] [info] [network_graph.cpp:30] Graph nodes 649 edges 1308\n",
      "[2025-02-19 15:18:15.306] [info] [network_graph.cpp:31] Construct graph from network edges end\n"
     ]
    }
   ],
   "source": [
    "#load network data and graph\n",
    "network = Network(\"../osmnx_example/stockholm/edges.shp\",\"fid\", \"u\", \"v\")\n",
    "print(\"Nodes {} edges {}\".format(network.get_node_count(),network.get_edge_count()))\n",
    "graph = NetworkGraph(network)"
   ]
  },
  {
   "cell_type": "markdown",
   "metadata": {},
   "source": [
    "### Precompute an UBODT file\n",
    "\n",
    "**This step can be skipped if you already created one UBODT file.**"
   ]
  },
  {
   "cell_type": "code",
   "execution_count": 3,
   "metadata": {},
   "outputs": [
    {
     "name": "stdout",
     "output_type": "stream",
     "text": [
      "Status: success\n",
      "Time takes 0.671 seconds\n",
      "\n",
      "[2025-02-19 15:18:15.322] [info] [ubodt_gen_algorithm.cpp:76] Start to generate UBODT with delta 4\n",
      "[2025-02-19 15:18:15.323] [info] [ubodt_gen_algorithm.cpp:77] Output format csv\n",
      "[2025-02-19 15:18:15.393] [info] [ubodt_gen_algorithm.cpp:105] Progress 64 / 649\n",
      "[2025-02-19 15:18:15.461] [info] [ubodt_gen_algorithm.cpp:105] Progress 128 / 649\n",
      "[2025-02-19 15:18:15.527] [info] [ubodt_gen_algorithm.cpp:105] Progress 192 / 649\n",
      "[2025-02-19 15:18:15.590] [info] [ubodt_gen_algorithm.cpp:105] Progress 256 / 649\n",
      "[2025-02-19 15:18:15.659] [info] [ubodt_gen_algorithm.cpp:105] Progress 320 / 649\n",
      "[2025-02-19 15:18:15.724] [info] [ubodt_gen_algorithm.cpp:105] Progress 384 / 649\n",
      "[2025-02-19 15:18:15.788] [info] [ubodt_gen_algorithm.cpp:105] Progress 448 / 649\n",
      "[2025-02-19 15:18:15.855] [info] [ubodt_gen_algorithm.cpp:105] Progress 512 / 649\n",
      "[2025-02-19 15:18:15.927] [info] [ubodt_gen_algorithm.cpp:105] Progress 576 / 649\n",
      "[2025-02-19 15:18:15.982] [info] [ubodt_gen_algorithm.cpp:105] Progress 640 / 649\n"
     ]
    }
   ],
   "source": [
    "from fmm import UBODTGenAlgorithm\n",
    "ubodt_gen = UBODTGenAlgorithm(network,graph)\n",
    "status = ubodt_gen.generate_ubodt(\"../osmnx_example/stockholm//ubodt.txt\", 4, binary=False, use_omp=True)\n",
    "print(status)"
   ]
  },
  {
   "cell_type": "markdown",
   "metadata": {},
   "source": [
    "### FMM model creation and map matching"
   ]
  },
  {
   "cell_type": "code",
   "execution_count": null,
   "metadata": {},
   "outputs": [
    {
     "name": "stdout",
     "output_type": "stream",
     "text": [
      "[2025-02-19 15:25:52.048] [info] [ubodt.cpp:208] Reading UBODT file (CSV format) from ../osmnx_example/stockholm/ubodt.txt\n",
      "[2025-02-19 15:25:52.298] [info] [ubodt.cpp:243] Finish reading UBODT with rows 378341\n",
      "Result file : ../osmnx_example/stockholm/mr.txt\n",
      "Output fields: opath cpath mgeom \n",
      "   id                              opath  \\\n",
      "0   2          1226,817,1278,998,582,297   \n",
      "1   1  37,957,984,203,1263,545,1059,1188   \n",
      "\n",
      "                                               cpath  \\\n",
      "0  1226,1266,1275,817,517,1278,340,998,493,582,65...   \n",
      "1  37,289,477,254,957,558,407,395,185,134,988,984...   \n",
      "\n",
      "                                               mgeom  \n",
      "0  LINESTRING(18.0619967958 59.3372556566,18.0617...  \n",
      "1  LINESTRING(18.0551131103 59.3355378738,18.0550...  \n"
     ]
    }
   ],
   "source": [
    "ubodt = UBODT.read_ubodt_csv(\"../osmnx_example/stockholm/ubodt.txt\")\n",
    "model = FastMapMatch(network,graph,ubodt)\n",
    "\n",
    "# configuration parameters\n",
    "k = 4\n",
    "radius = 0.4\n",
    "gps_error = 0.5\n",
    "fmm_config = FastMapMatchConfig(k,radius,gps_error)\n",
    "\n",
    "input_config = GPSConfig()\n",
    "input_config.file = \"../osmnx_example/stockholm/trips.csv\"\n",
    "input_config.id = \"id\"\n",
    "\n",
    "result_config = ResultConfig()\n",
    "result_config.file = \"../osmnx_example/stockholm/mr.txt\"\n",
    "result_config.output_config.write_opath = True\n",
    "print(result_config.to_string())\n",
    "\n",
    "matched_df = pd.read_csv(\"../osmnx_example/stockholm/mr.txt\", delimiter=\";\")\n",
    "print(matched_df.head())\n"
   ]
  },
  {
   "cell_type": "code",
   "execution_count": 19,
   "metadata": {},
   "outputs": [
    {
     "data": {
      "application/vnd.jupyter.widget-view+json": {
       "model_id": "1d56d7cf1e4f4daabf58e96f4f31a69d",
       "version_major": 2,
       "version_minor": 0
      },
      "text/plain": [
       "Map(center=[59.34, 18.06], controls=(ZoomControl(options=['position', 'zoom_in_text', 'zoom_in_title', 'zoom_o…"
      ]
     },
     "execution_count": 19,
     "metadata": {},
     "output_type": "execute_result"
    }
   ],
   "source": [
    "from shapely.wkt import loads\n",
    "from shapely.geometry import mapping\n",
    "import pandas as pd\n",
    "import json\n",
    "from ipyleaflet import Map, GeoJSON, WidgetControl\n",
    "import ipywidgets as widgets\n",
    "\n",
    "# Load matched and original data\n",
    "matched_df = pd.read_csv(\"../osmnx_example/stockholm/mr.txt\", delimiter=\";\")\n",
    "original_df = pd.read_csv(\"../osmnx_example/stockholm/trips.csv\", delimiter=\";\")\n",
    "\n",
    "# Merge original and matched trajectories by 'id'\n",
    "merged_df = pd.merge(matched_df[['id', 'mgeom']], original_df[['id', 'geom']], on='id')\n",
    "\n",
    "# Initialize lists for GeoJSON\n",
    "original_geojson_list = []\n",
    "matched_geojson_list = []\n",
    "\n",
    "for _, row in merged_df.iterrows():\n",
    "    # Convert original and matched geometry to GeoJSON\n",
    "    original_geom = loads(row[\"geom\"])  # 'geom' is the column for original trajectories\n",
    "    matched_geom = loads(row[\"mgeom\"])  # 'mgeom' is the column for matched trajectories\n",
    "    \n",
    "    original_geojson_list.append({\n",
    "        \"type\": \"Feature\",\n",
    "        \"geometry\": mapping(original_geom),\n",
    "        \"properties\": {\"id\": row[\"id\"], \"type\": \"Original\"}\n",
    "    })\n",
    "    \n",
    "    matched_geojson_list.append({\n",
    "        \"type\": \"Feature\",\n",
    "        \"geometry\": mapping(matched_geom),\n",
    "        \"properties\": {\"id\": row[\"id\"], \"type\": \"Matched\"}\n",
    "    })\n",
    "\n",
    "# Create GeoJSON FeatureCollection for both original and matched\n",
    "geojson_data = {\"type\": \"FeatureCollection\", \"features\": original_geojson_list + matched_geojson_list}\n",
    "\n",
    "# Save to file (optional)\n",
    "with open(\"merged_trajectories.geojson\", \"w\") as f:\n",
    "    json.dump(geojson_data, f)\n",
    "\n",
    "# Initialize the map\n",
    "m = Map(center=(59.34, 18.06), zoom=13)\n",
    "\n",
    "# Add both original and matched layers with different colors\n",
    "original_layer = GeoJSON(name=\"Original Trajectories\", data={\"type\": \"FeatureCollection\", \"features\": original_geojson_list},\n",
    "                         style={\"color\": \"blue\", \"weight\": 3})\n",
    "matched_layer = GeoJSON(name=\"Matched Trajectories\", data={\"type\": \"FeatureCollection\", \"features\": matched_geojson_list},\n",
    "                        style={\"color\": \"orange\", \"weight\": 3})\n",
    "\n",
    "m.add_layer(original_layer)\n",
    "m.add_layer(matched_layer)\n",
    "\n",
    "# Display the map\n",
    "m\n"
   ]
  }
 ],
 "metadata": {
  "kernelspec": {
   "display_name": ".venv",
   "language": "python",
   "name": "python3"
  },
  "language_info": {
   "codemirror_mode": {
    "name": "ipython",
    "version": 3
   },
   "file_extension": ".py",
   "mimetype": "text/x-python",
   "name": "python",
   "nbconvert_exporter": "python",
   "pygments_lexer": "ipython3",
   "version": "3.12.3"
  }
 },
 "nbformat": 4,
 "nbformat_minor": 2
}
