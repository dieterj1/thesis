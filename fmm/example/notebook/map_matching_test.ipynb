{
 "cells": [
  {
   "cell_type": "code",
   "execution_count": 3,
   "metadata": {},
   "outputs": [],
   "source": [
    "from fmm import Network,NetworkGraph,FastMapMatch,FastMapMatchConfig,UBODT,GPSConfig,ResultConfig\n",
    "import pandas as pd"
   ]
  },
  {
   "cell_type": "code",
   "execution_count": 4,
   "metadata": {},
   "outputs": [
    {
     "name": "stdout",
     "output_type": "stream",
     "text": [
      "[2025-02-21 17:32:43.804] [info] [network.cpp:72] Read network from file ../osmnx_example/beijing/edges.shp\n",
      "Nodes 157738 edges 393216\n",
      "[2025-02-21 17:32:45.909] [info] [network.cpp:172] Number of edges 393216 nodes 157738\n",
      "[2025-02-21 17:32:45.909] [info] [network.cpp:173] Field index: id 18 source 0 target 1\n",
      "[2025-02-21 17:32:46.246] [info] [network.cpp:176] Read network done.\n",
      "[2025-02-21 17:32:46.247] [info] [network_graph.cpp:17] Construct graph from network edges start\n",
      "[2025-02-21 17:32:46.295] [info] [network_graph.cpp:30] Graph nodes 157738 edges 393216\n",
      "[2025-02-21 17:32:46.295] [info] [network_graph.cpp:31] Construct graph from network edges end\n"
     ]
    }
   ],
   "source": [
    "#load network data and graph\n",
    "network = Network(\"../osmnx_example/beijing/edges.shp\",\"fid\", \"u\", \"v\")\n",
    "print(\"Nodes {} edges {}\".format(network.get_node_count(),network.get_edge_count()))\n",
    "graph = NetworkGraph(network)"
   ]
  },
  {
   "cell_type": "markdown",
   "metadata": {},
   "source": [
    "### Precompute an UBODT file\n",
    "\n",
    "**This step can be skipped if you already created one UBODT file.**"
   ]
  },
  {
   "cell_type": "code",
   "execution_count": null,
   "metadata": {},
   "outputs": [
    {
     "name": "stdout",
     "output_type": "stream",
     "text": [
      "[2025-02-21 12:06:36.625] [info] [ubodt_gen_algorithm.cpp:76] Start to generate UBODT with delta 4\n",
      "[2025-02-21 12:06:36.625] [info] [ubodt_gen_algorithm.cpp:77] Output format csv\n",
      "Status: success\n",
      "Time takes 0.82 seconds\n",
      "\n",
      "[2025-02-21 12:06:36.708] [info] [ubodt_gen_algorithm.cpp:105] Progress 64 / 649\n",
      "[2025-02-21 12:06:36.787] [info] [ubodt_gen_algorithm.cpp:105] Progress 128 / 649\n",
      "[2025-02-21 12:06:36.866] [info] [ubodt_gen_algorithm.cpp:105] Progress 192 / 649\n",
      "[2025-02-21 12:06:36.951] [info] [ubodt_gen_algorithm.cpp:105] Progress 256 / 649\n",
      "[2025-02-21 12:06:37.046] [info] [ubodt_gen_algorithm.cpp:105] Progress 320 / 649\n",
      "[2025-02-21 12:06:37.125] [info] [ubodt_gen_algorithm.cpp:105] Progress 384 / 649\n",
      "[2025-02-21 12:06:37.199] [info] [ubodt_gen_algorithm.cpp:105] Progress 448 / 649\n",
      "[2025-02-21 12:06:37.278] [info] [ubodt_gen_algorithm.cpp:105] Progress 512 / 649\n",
      "[2025-02-21 12:06:37.370] [info] [ubodt_gen_algorithm.cpp:105] Progress 576 / 649\n",
      "[2025-02-21 12:06:37.441] [info] [ubodt_gen_algorithm.cpp:105] Progress 640 / 649\n"
     ]
    }
   ],
   "source": [
    "from fmm import UBODTGenAlgorithm\n",
    "ubodt_gen = UBODTGenAlgorithm(network,graph)\n",
    "status = ubodt_gen.generate_ubodt(\"../osmnx_example/beijing/ubodt.txt\", 4, binary=False, use_omp=True)\n",
    "print(status)"
   ]
  },
  {
   "cell_type": "markdown",
   "metadata": {},
   "source": [
    "### FMM model creation and map matching"
   ]
  },
  {
   "cell_type": "code",
   "execution_count": null,
   "metadata": {},
   "outputs": [
    {
     "ename": "NameError",
     "evalue": "name 'UBODT' is not defined",
     "output_type": "error",
     "traceback": [
      "\u001b[0;31m---------------------------------------------------------------------------\u001b[0m",
      "\u001b[0;31mNameError\u001b[0m                                 Traceback (most recent call last)",
      "Cell \u001b[0;32mIn[2], line 1\u001b[0m\n\u001b[0;32m----> 1\u001b[0m ubodt \u001b[38;5;241m=\u001b[39m \u001b[43mUBODT\u001b[49m\u001b[38;5;241m.\u001b[39mread_ubodt_csv(\u001b[38;5;124m\"\u001b[39m\u001b[38;5;124m../osmnx_example/beijing/ubodt.txt\u001b[39m\u001b[38;5;124m\"\u001b[39m)\n\u001b[1;32m      2\u001b[0m model \u001b[38;5;241m=\u001b[39m FastMapMatch(network,graph,ubodt)\n\u001b[1;32m      4\u001b[0m \u001b[38;5;66;03m# configuration parameters\u001b[39;00m\n",
      "\u001b[0;31mNameError\u001b[0m: name 'UBODT' is not defined"
     ]
    },
    {
     "name": "stdout",
     "output_type": "stream",
     "text": [
      "[2025-02-21 17:32:55.837] [info] [ubodt.cpp:208] Reading UBODT file (CSV format) from ../osmnx_example/beijing/ubodt.txt\n",
      "[2025-02-21 17:32:56.857] [info] [ubodt.cpp:236] Read rows 1000000\n",
      "[2025-02-21 17:32:57.680] [info] [ubodt.cpp:236] Read rows 2000000\n",
      "[2025-02-21 17:32:58.490] [info] [ubodt.cpp:236] Read rows 3000000\n",
      "[2025-02-21 17:32:59.390] [info] [ubodt.cpp:236] Read rows 4000000\n",
      "[2025-02-21 17:33:00.226] [info] [ubodt.cpp:236] Read rows 5000000\n",
      "[2025-02-21 17:33:01.232] [info] [ubodt.cpp:236] Read rows 6000000\n",
      "[2025-02-21 17:33:02.010] [info] [ubodt.cpp:236] Read rows 7000000\n",
      "[2025-02-21 17:33:02.777] [info] [ubodt.cpp:236] Read rows 8000000\n",
      "[2025-02-21 17:33:03.745] [info] [ubodt.cpp:236] Read rows 9000000\n",
      "[2025-02-21 17:33:04.657] [info] [ubodt.cpp:236] Read rows 10000000\n",
      "[2025-02-21 17:33:05.574] [info] [ubodt.cpp:236] Read rows 11000000\n",
      "[2025-02-21 17:33:06.313] [info] [ubodt.cpp:236] Read rows 12000000\n",
      "[2025-02-21 17:33:07.153] [info] [ubodt.cpp:236] Read rows 13000000\n",
      "[2025-02-21 17:33:07.986] [info] [ubodt.cpp:236] Read rows 14000000\n",
      "[2025-02-21 17:33:08.760] [info] [ubodt.cpp:236] Read rows 15000000\n",
      "[2025-02-21 17:33:09.595] [info] [ubodt.cpp:236] Read rows 16000000\n",
      "[2025-02-21 17:33:10.490] [info] [ubodt.cpp:236] Read rows 17000000\n",
      "[2025-02-21 17:33:11.238] [info] [ubodt.cpp:236] Read rows 18000000\n",
      "[2025-02-21 17:33:12.115] [info] [ubodt.cpp:236] Read rows 19000000\n",
      "[2025-02-21 17:33:12.915] [info] [ubodt.cpp:236] Read rows 20000000\n",
      "[2025-02-21 17:33:13.802] [info] [ubodt.cpp:236] Read rows 21000000\n",
      "[2025-02-21 17:33:14.503] [info] [ubodt.cpp:236] Read rows 22000000\n",
      "[2025-02-21 17:33:15.166] [info] [ubodt.cpp:236] Read rows 23000000\n",
      "[2025-02-21 17:33:16.163] [info] [ubodt.cpp:236] Read rows 24000000\n",
      "[2025-02-21 17:33:17.265] [info] [ubodt.cpp:236] Read rows 25000000\n",
      "[2025-02-21 17:33:18.421] [info] [ubodt.cpp:236] Read rows 26000000\n",
      "[2025-02-21 17:33:19.680] [info] [ubodt.cpp:236] Read rows 27000000\n",
      "[2025-02-21 17:33:20.598] [info] [ubodt.cpp:236] Read rows 28000000\n",
      "[2025-02-21 17:33:21.427] [info] [ubodt.cpp:236] Read rows 29000000\n",
      "[2025-02-21 17:33:22.256] [info] [ubodt.cpp:236] Read rows 30000000\n",
      "[2025-02-21 17:33:23.037] [info] [ubodt.cpp:236] Read rows 31000000\n",
      "[2025-02-21 17:33:23.799] [info] [ubodt.cpp:236] Read rows 32000000\n",
      "[2025-02-21 17:33:24.508] [info] [ubodt.cpp:236] Read rows 33000000\n",
      "[2025-02-21 17:33:25.203] [info] [ubodt.cpp:236] Read rows 34000000\n",
      "[2025-02-21 17:33:25.940] [info] [ubodt.cpp:236] Read rows 35000000\n",
      "[2025-02-21 17:33:26.836] [info] [ubodt.cpp:236] Read rows 36000000\n",
      "[2025-02-21 17:33:27.666] [info] [ubodt.cpp:236] Read rows 37000000\n",
      "[2025-02-21 17:33:28.421] [info] [ubodt.cpp:236] Read rows 38000000\n",
      "[2025-02-21 17:33:29.186] [info] [ubodt.cpp:236] Read rows 39000000\n",
      "[2025-02-21 17:33:29.935] [info] [ubodt.cpp:236] Read rows 40000000\n",
      "[2025-02-21 17:33:30.641] [info] [ubodt.cpp:236] Read rows 41000000\n",
      "[2025-02-21 17:33:31.399] [info] [ubodt.cpp:236] Read rows 42000000\n",
      "[2025-02-21 17:33:32.309] [info] [ubodt.cpp:236] Read rows 43000000\n",
      "[2025-02-21 17:33:33.104] [info] [ubodt.cpp:236] Read rows 44000000\n",
      "[2025-02-21 17:33:33.841] [info] [ubodt.cpp:236] Read rows 45000000\n",
      "[2025-02-21 17:33:34.599] [info] [ubodt.cpp:243] Finish reading UBODT with rows 45850920\n"
     ]
    },
    {
     "ename": "KeyboardInterrupt",
     "evalue": "",
     "output_type": "error",
     "traceback": [
      "\u001b[0;31m---------------------------------------------------------------------------\u001b[0m",
      "\u001b[0;31mKeyboardInterrupt\u001b[0m                         Traceback (most recent call last)",
      "Cell \u001b[0;32mIn[5], line 1\u001b[0m\n\u001b[0;32m----> 1\u001b[0m ubodt \u001b[38;5;241m=\u001b[39m \u001b[43mUBODT\u001b[49m\u001b[38;5;241;43m.\u001b[39;49m\u001b[43mread_ubodt_csv\u001b[49m\u001b[43m(\u001b[49m\u001b[38;5;124;43m\"\u001b[39;49m\u001b[38;5;124;43m../osmnx_example/beijing/ubodt.txt\u001b[39;49m\u001b[38;5;124;43m\"\u001b[39;49m\u001b[43m)\u001b[49m\n\u001b[1;32m      2\u001b[0m model \u001b[38;5;241m=\u001b[39m FastMapMatch(network,graph,ubodt)\n\u001b[1;32m      4\u001b[0m \u001b[38;5;66;03m# configuration parameters\u001b[39;00m\n",
      "File \u001b[0;32m~/thesis/trace_obfuscate/.venv/lib/python3.12/site-packages/fmm.py:1044\u001b[0m, in \u001b[0;36mUBODT.read_ubodt_csv\u001b[0;34m(filename, multiplier)\u001b[0m\n\u001b[1;32m   1042\u001b[0m \u001b[38;5;129m@staticmethod\u001b[39m\n\u001b[1;32m   1043\u001b[0m \u001b[38;5;28;01mdef\u001b[39;00m \u001b[38;5;21mread_ubodt_csv\u001b[39m(filename, multiplier\u001b[38;5;241m=\u001b[39m\u001b[38;5;241m50000\u001b[39m):\n\u001b[0;32m-> 1044\u001b[0m     \u001b[38;5;28;01mreturn\u001b[39;00m \u001b[43m_fmm\u001b[49m\u001b[38;5;241;43m.\u001b[39;49m\u001b[43mUBODT_read_ubodt_csv\u001b[49m\u001b[43m(\u001b[49m\u001b[43mfilename\u001b[49m\u001b[43m,\u001b[49m\u001b[43m \u001b[49m\u001b[43mmultiplier\u001b[49m\u001b[43m)\u001b[49m\n",
      "\u001b[0;31mKeyboardInterrupt\u001b[0m: "
     ]
    }
   ],
   "source": [
    "ubodt = UBODT.read_ubodt_csv(\"../osmnx_example/beijing/ubodt.txt\")\n",
    "model = FastMapMatch(network,graph,ubodt)\n",
    "\n",
    "# configuration parameters\n",
    "k = 4\n",
    "radius = 0.4\n",
    "gps_error = 0.5\n",
    "fmm_config = FastMapMatchConfig(k,radius,gps_error)\n",
    "\n",
    "input_config = GPSConfig()\n",
    "input_config.file = \"../osmnx_example/beijing/trips.csv\"\n",
    "input_config.id = \"id\"\n",
    "\n",
    "result_config = ResultConfig()\n",
    "result_config.file = \"../osmnx_example/beijing/mr.txt\"\n",
    "result_config.output_config.write_opath = True\n",
    "print(result_config.to_string())\n",
    "\n",
    "matched_df = pd.read_csv(\"../osmnx_example/beijing/mr.txt\", delimiter=\";\")\n",
    "print(matched_df.head())\n"
   ]
  },
  {
   "cell_type": "code",
   "execution_count": 7,
   "metadata": {},
   "outputs": [
    {
     "data": {
      "application/vnd.jupyter.widget-view+json": {
       "model_id": "6187f74b00b9496b981e6d19785dc796",
       "version_major": 2,
       "version_minor": 0
      },
      "text/plain": [
       "Map(center=[59.34, 18.06], controls=(ZoomControl(options=['position', 'zoom_in_text', 'zoom_in_title', 'zoom_o…"
      ]
     },
     "execution_count": 7,
     "metadata": {},
     "output_type": "execute_result"
    }
   ],
   "source": [
    "from shapely.wkt import loads\n",
    "from shapely.geometry import mapping\n",
    "import pandas as pd\n",
    "import json\n",
    "from ipyleaflet import Map, GeoJSON, WidgetControl\n",
    "import ipywidgets as widgets\n",
    "\n",
    "# Load matched and original data\n",
    "matched_df = pd.read_csv(\"../osmnx_example/stockholm/mr.txt\", delimiter=\";\")\n",
    "original_df = pd.read_csv(\"../osmnx_example/stockholm/trips.csv\", delimiter=\";\")\n",
    "\n",
    "# Merge original and matched trajectories by 'id'\n",
    "merged_df = pd.merge(matched_df[['id', 'mgeom']], original_df[['id', 'geom']], on='id')\n",
    "\n",
    "# Initialize lists for GeoJSON\n",
    "original_geojson_list = []\n",
    "matched_geojson_list = []\n",
    "\n",
    "for _, row in merged_df.iterrows():\n",
    "    # Convert original and matched geometry to GeoJSON\n",
    "    original_geom = loads(row[\"geom\"])  # 'geom' is the column for original trajectories\n",
    "    matched_geom = loads(row[\"mgeom\"])  # 'mgeom' is the column for matched trajectories\n",
    "    \n",
    "    original_geojson_list.append({\n",
    "        \"type\": \"Feature\",\n",
    "        \"geometry\": mapping(original_geom),\n",
    "        \"properties\": {\"id\": row[\"id\"], \"type\": \"Original\"}\n",
    "    })\n",
    "    \n",
    "    matched_geojson_list.append({\n",
    "        \"type\": \"Feature\",\n",
    "        \"geometry\": mapping(matched_geom),\n",
    "        \"properties\": {\"id\": row[\"id\"], \"type\": \"Matched\"}\n",
    "    })\n",
    "\n",
    "# Create GeoJSON FeatureCollection for both original and matched\n",
    "geojson_data = {\"type\": \"FeatureCollection\", \"features\": original_geojson_list + matched_geojson_list}\n",
    "\n",
    "# Save to file (optional)\n",
    "with open(\"merged_trajectories.geojson\", \"w\") as f:\n",
    "    json.dump(geojson_data, f)\n",
    "\n",
    "# Initialize the map\n",
    "m = Map(center=(59.34, 18.06), zoom=13)\n",
    "\n",
    "# Add both original and matched layers with different colors\n",
    "original_layer = GeoJSON(name=\"Original Trajectories\", data={\"type\": \"FeatureCollection\", \"features\": original_geojson_list},\n",
    "                         style={\"color\": \"blue\", \"weight\": 3})\n",
    "matched_layer = GeoJSON(name=\"Matched Trajectories\", data={\"type\": \"FeatureCollection\", \"features\": matched_geojson_list},\n",
    "                        style={\"color\": \"orange\", \"weight\": 3})\n",
    "\n",
    "m.add_layer(original_layer)\n",
    "m.add_layer(matched_layer)\n",
    "\n",
    "# Display the map\n",
    "m\n"
   ]
  },
  {
   "cell_type": "markdown",
   "metadata": {},
   "source": [
    "### Map Matching after obfuscation"
   ]
  },
  {
   "cell_type": "code",
   "execution_count": null,
   "metadata": {},
   "outputs": [],
   "source": []
  }
 ],
 "metadata": {
  "kernelspec": {
   "display_name": ".venv",
   "language": "python",
   "name": "python3"
  },
  "language_info": {
   "codemirror_mode": {
    "name": "ipython",
    "version": 3
   },
   "file_extension": ".py",
   "mimetype": "text/x-python",
   "name": "python",
   "nbconvert_exporter": "python",
   "pygments_lexer": "ipython3",
   "version": "3.12.3"
  }
 },
 "nbformat": 4,
 "nbformat_minor": 2
}
