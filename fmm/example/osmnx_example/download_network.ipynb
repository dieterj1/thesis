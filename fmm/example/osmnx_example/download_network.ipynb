{
 "cells": [
  {
   "cell_type": "code",
   "execution_count": 7,
   "metadata": {},
   "outputs": [
    {
     "name": "stdout",
     "output_type": "stream",
     "text": [
      "osmnx version 2.0.1\n"
     ]
    }
   ],
   "source": [
    "import osmnx as ox\n",
    "import time\n",
    "from shapely.geometry import Polygon\n",
    "import os\n",
    "\n",
    "def save_graph_shapefile_directional(G, filepath=None, encoding=\"utf-8\"):\n",
    "    # default filepath if none was provided\n",
    "    if filepath is None:\n",
    "        filepath = os.path.join(ox.settings.data_folder, \"graph_shapefile\")\n",
    "\n",
    "    # if save folder does not already exist, create it (shapefiles\n",
    "    # get saved as set of files)\n",
    "    if not filepath == \"\" and not os.path.exists(filepath):\n",
    "        os.makedirs(filepath)\n",
    "    filepath_nodes = os.path.join(filepath, \"nodes.shp\")\n",
    "    filepath_edges = os.path.join(filepath, \"edges.shp\")\n",
    "\n",
    "    # convert undirected graph to gdfs and stringify non-numeric columns\n",
    "    gdf_nodes, gdf_edges = ox.utils_graph.graph_to_gdfs(G)\n",
    "    gdf_nodes = ox.io._stringify_nonnumeric_cols(gdf_nodes)\n",
    "    gdf_edges = ox.io._stringify_nonnumeric_cols(gdf_edges)\n",
    "    # We need an unique ID for each edge\n",
    "    gdf_edges[\"fid\"] = gdf_edges.index\n",
    "    # save the nodes and edges as separate ESRI shapefiles\n",
    "    gdf_nodes.to_file(filepath_nodes, encoding=encoding)\n",
    "    gdf_edges.to_file(filepath_edges, encoding=encoding)\n",
    "\n",
    "print(\"osmnx version\",ox.__version__)"
   ]
  },
  {
   "cell_type": "markdown",
   "metadata": {},
   "source": [
    "### Download network in a boundingbox"
   ]
  },
  {
   "cell_type": "code",
   "execution_count": 16,
   "metadata": {},
   "outputs": [
    {
     "name": "stdout",
     "output_type": "stream",
     "text": [
      "Number of nodes: 50216\n",
      "Number of edges: 103787\n"
     ]
    }
   ],
   "source": [
    "min_lon, max_lon = 12.38, 12.62\n",
    "min_lat, max_lat = 41.8, 41.95\n",
    "\n",
    "boundary_polygon = Polygon([(min_lon, min_lat), \n",
    "                            (max_lon, min_lat), \n",
    "                            (max_lon, max_lat), \n",
    "                            (min_lon, max_lat)])\n",
    "\n",
    "G = ox.graph_from_polygon(boundary_polygon, \n",
    "                          custom_filter='[\"highway\"~\"motorway|trunk|primary|secondary|tertiary|unclassified|residential|motorway_link|trunk_link|primary_link|secondary_link|tertiary_link|living_street|service|busway\"]'\n",
    "                          )\n",
    "\n",
    "gdf_nodes, gdf_edges = ox.graph_to_gdfs(G)\n",
    "print(f\"Number of nodes: {len(gdf_nodes)}\")\n",
    "print(f\"Number of edges: {len(gdf_edges)}\")\n"
   ]
  },
  {
   "cell_type": "markdown",
   "metadata": {},
   "source": [
    "### Download network in a city"
   ]
  },
  {
   "cell_type": "code",
   "execution_count": null,
   "metadata": {},
   "outputs": [
    {
     "name": "stderr",
     "output_type": "stream",
     "text": [
      "/tmp/ipykernel_32437/3722678264.py:23: UserWarning: Column names longer than 10 characters will be truncated when saved to ESRI Shapefile.\n",
      "  gdf_nodes.to_file(os.path.join(output_folder, \"nodes.shp\"))\n",
      "/home/dieter/thesis/.venv/lib/python3.12/site-packages/pyogrio/raw.py:723: RuntimeWarning: Normalized/laundered field name: 'street_count' to 'street_cou'\n",
      "  ogr_write(\n"
     ]
    },
    {
     "name": "stdout",
     "output_type": "stream",
     "text": [
      "Fixed shapefile saved.\n",
      "[2025-03-13 15:37:26.253] [info] [network.cpp:72] Read network from file ../osmnx_example/rome/edges.shp\n",
      "[2025-03-13 15:37:26.864] [info] [network.cpp:172] Number of edges 188608 nodes 88690\n",
      "[2025-03-13 15:37:26.864] [info] [network.cpp:173] Field index: id 20 source 0 target 1\n",
      "[2025-03-13 15:37:26.950] [info] [network.cpp:176] Read network done.\n",
      "Nodes 88690 edges 188608\n"
     ]
    }
   ],
   "source": [
    "import osmnx as ox\n",
    "import geopandas as gpd\n",
    "import os\n",
    "from fmm import Network\n",
    "\n",
    "place = \"Rome, Italy\"\n",
    "\n",
    "G = ox.graph_from_place(\n",
    "    place,\n",
    "    custom_filter='[\"highway\"~\"motorway|trunk|primary|secondary|tertiary|unclassified|'\n",
    "    'residential|motorway_link|trunk_link|primary_link|secondary_link|tertiary_link|living_street|'\n",
    "    'service|busway\"]'\n",
    ")\n",
    "\n",
    "gdf_nodes, gdf_edges = ox.graph_to_gdfs(G)\n",
    "output_folder = \"rome\"\n",
    "os.makedirs(output_folder, exist_ok=True)\n",
    "\n",
    "# Save nodes and edges as shapefiles\n",
    "gdf_nodes.to_file(os.path.join(output_folder, \"nodes.shp\"))\n",
    "gdf_edges.to_file(os.path.join(output_folder, \"edges.shp\"))\n",
    "edges = gpd.read_file(os.path.join(output_folder, \"edges.shp\"))\n",
    "\n",
    "# Add a unique 'fid' column\n",
    "edges[\"fid\"] = edges.index  # Unique index as ID\n",
    "edges.to_file(os.path.join(output_folder, \"edges_fixed.shp\"), encoding=\"utf-8\")\n",
    "\n",
    "# Load the edges shapefile\n",
    "edges = gpd.read_file(\"../osmnx_example/rome/edges.shp\")\n",
    "edges[\"fid\"] = edges.index  # Unique index as ID\n",
    "edges.to_file(\"../osmnx_example/rome/edges.shp\", encoding=\"utf-8\")\n",
    "\n",
    "print(\"Fixed shapefile saved.\")\n",
    "network = Network(\"../osmnx_example/rome/edges.shp\",\"fid\", \"u\", \"v\")\n",
    "print(\"Nodes {} edges {}\".format(network.get_node_count(),network.get_edge_count()))"
   ]
  },
  {
   "cell_type": "markdown",
   "metadata": {},
   "source": [
    "### Download network with a boundary"
   ]
  },
  {
   "cell_type": "code",
   "execution_count": null,
   "metadata": {},
   "outputs": [],
   "source": [
    "# Download by a boundary polygon in geojson\n",
    "import osmnx as ox\n",
    "from shapely.geometry import shape\n",
    "json_file = open(\"stockholm_boundary.geojson\")\n",
    "import json\n",
    "data = json.load(json_file)\n",
    "boundary_polygon = shape(data[\"features\"][0]['geometry'])\n",
    "G = ox.graph_from_polygon(boundary_polygon, network_type='drive')\n",
    "save_graph_shapefile_directional(G, filepath='stockholm')"
   ]
  }
 ],
 "metadata": {
  "kernelspec": {
   "display_name": ".venv",
   "language": "python",
   "name": "python3"
  },
  "language_info": {
   "codemirror_mode": {
    "name": "ipython",
    "version": 3
   },
   "file_extension": ".py",
   "mimetype": "text/x-python",
   "name": "python",
   "nbconvert_exporter": "python",
   "pygments_lexer": "ipython3",
   "version": "3.12.3"
  }
 },
 "nbformat": 4,
 "nbformat_minor": 2
}
