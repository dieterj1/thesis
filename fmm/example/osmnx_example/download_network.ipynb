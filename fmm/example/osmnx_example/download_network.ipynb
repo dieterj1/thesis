{
 "cells": [
  {
   "cell_type": "code",
   "execution_count": 5,
   "metadata": {},
   "outputs": [
    {
     "name": "stdout",
     "output_type": "stream",
     "text": [
      "osmnx version 2.0.1\n"
     ]
    }
   ],
   "source": [
    "import osmnx as ox\n",
    "import time\n",
    "from shapely.geometry import Polygon\n",
    "import os\n",
    "\n",
    "def save_graph_shapefile_directional(G, filepath=None, encoding=\"utf-8\"):\n",
    "    # default filepath if none was provided\n",
    "    if filepath is None:\n",
    "        filepath = os.path.join(ox.settings.data_folder, \"graph_shapefile\")\n",
    "\n",
    "    # if save folder does not already exist, create it (shapefiles\n",
    "    # get saved as set of files)\n",
    "    if not filepath == \"\" and not os.path.exists(filepath):\n",
    "        os.makedirs(filepath)\n",
    "    filepath_nodes = os.path.join(filepath, \"nodes.shp\")\n",
    "    filepath_edges = os.path.join(filepath, \"edges.shp\")\n",
    "\n",
    "    # convert undirected graph to gdfs and stringify non-numeric columns\n",
    "    gdf_nodes, gdf_edges = ox.utils_graph.graph_to_gdfs(G)\n",
    "    gdf_nodes = ox.io._stringify_nonnumeric_cols(gdf_nodes)\n",
    "    gdf_edges = ox.io._stringify_nonnumeric_cols(gdf_edges)\n",
    "    # We need an unique ID for each edge\n",
    "    gdf_edges[\"fid\"] = gdf_edges.index\n",
    "    # save the nodes and edges as separate ESRI shapefiles\n",
    "    gdf_nodes.to_file(filepath_nodes, encoding=encoding)\n",
    "    gdf_edges.to_file(filepath_edges, encoding=encoding)\n",
    "\n",
    "print(\"osmnx version\",ox.__version__)"
   ]
  },
  {
   "cell_type": "markdown",
   "metadata": {},
   "source": [
    "### Download network in a boundingbox"
   ]
  },
  {
   "cell_type": "code",
   "execution_count": 3,
   "metadata": {},
   "outputs": [
    {
     "name": "stdout",
     "output_type": "stream",
     "text": [
      "--- 0.5374898910522461 seconds ---\n"
     ]
    }
   ],
   "source": [
    "bounds = (18.029122582902115, 18.070836297501724, 59.33476653724975, 59.352622230576124)\n",
    "x1,x2,y1,y2 = bounds\n",
    "boundary_polygon = Polygon([(x1,y1),(x2,y1),(x2,y2),(x1,y2)])\n",
    "G = ox.graph_from_polygon(boundary_polygon, network_type='drive')\n",
    "start_time = time.time()\n",
    "save_graph_shapefile_directional(G, filepath='./stockholm')\n",
    "print(\"--- %s seconds ---\" % (time.time() - start_time))"
   ]
  },
  {
   "cell_type": "markdown",
   "metadata": {},
   "source": [
    "### Download network in a city"
   ]
  },
  {
   "cell_type": "code",
   "execution_count": null,
   "metadata": {},
   "outputs": [],
   "source": [
    "place =\"Stockholm, Sweden\"\n",
    "G = ox.graph_from_place(place, network_type='drive', which_result=2)\n",
    "save_graph_shapefile_directional(G, filepath='stockholm')"
   ]
  },
  {
   "cell_type": "markdown",
   "metadata": {},
   "source": [
    "### Download network with a boundary"
   ]
  },
  {
   "cell_type": "code",
   "execution_count": null,
   "metadata": {},
   "outputs": [],
   "source": [
    "# Download by a boundary polygon in geojson\n",
    "import osmnx as ox\n",
    "from shapely.geometry import shape\n",
    "json_file = open(\"stockholm_boundary.geojson\")\n",
    "import json\n",
    "data = json.load(json_file)\n",
    "boundary_polygon = shape(data[\"features\"][0]['geometry'])\n",
    "G = ox.graph_from_polygon(boundary_polygon, network_type='drive')\n",
    "save_graph_shapefile_directional(G, filepath='stockholm')"
   ]
  },
  {
   "cell_type": "markdown",
   "metadata": {},
   "source": [
    "### Fix for Beijing issues"
   ]
  },
  {
   "cell_type": "code",
   "execution_count": 6,
   "metadata": {},
   "outputs": [
    {
     "name": "stderr",
     "output_type": "stream",
     "text": [
      "/home/dieter/thesis/trace_obfuscate/.venv/lib/python3.12/site-packages/osmnx/_overpass.py:267: UserWarning: This area is 11 times your configured Overpass max query area size. It will automatically be divided up into multiple sub-queries accordingly. This may take a long time.\n",
      "  multi_poly_proj = utils_geo._consolidate_subdivide_geometry(poly_proj)\n",
      "/tmp/ipykernel_52359/3184228518.py:20: UserWarning: Column names longer than 10 characters will be truncated when saved to ESRI Shapefile.\n",
      "  gdf_nodes.to_file(f\"{output_dir}/nodes.shp\", encoding=\"utf-8\")\n",
      "/home/dieter/thesis/trace_obfuscate/.venv/lib/python3.12/site-packages/pyogrio/raw.py:723: RuntimeWarning: Normalized/laundered field name: 'street_count' to 'street_cou'\n",
      "  ogr_write(\n"
     ]
    },
    {
     "name": "stdout",
     "output_type": "stream",
     "text": [
      "Graph saved in ./beijing\n",
      "--- 26.760839462280273 seconds ---\n"
     ]
    },
    {
     "name": "stderr",
     "output_type": "stream",
     "text": [
      "/home/dieter/thesis/trace_obfuscate/.venv/lib/python3.12/site-packages/pyogrio/raw.py:723: RuntimeWarning: Value '[157244803, 241099789, 241099798, 241099803, 241099815, 241099818, 241099823, 219958982, 219958998, 241100507, 241100508, 241100509, 241100512, 241100518, 241100519, 241100521, 241100522, 241100523, 241100526, 1201577967, 241100527, 241100529, 1027667059, 241100532, 1027667060, 241100534, 157091703, 241100537, 241100538]' of field osmid has been truncated to 254 characters.  This warning will not be emitted any more for that layer.\n",
      "  ogr_write(\n"
     ]
    }
   ],
   "source": [
    "import osmnx as ox\n",
    "import geopandas as gpd\n",
    "import time\n",
    "\n",
    "# Define place name\n",
    "place_name = \"Beijing, China\"\n",
    "\n",
    "# Download the drive network (routable)\n",
    "G = ox.graph_from_place(place_name, network_type=\"drive\")\n",
    "\n",
    "# Convert the graph to GeoDataFrames (nodes and edges)\n",
    "gdf_nodes, gdf_edges = ox.graph_to_gdfs(G)\n",
    "\n",
    "# Define output directory\n",
    "output_dir = \"./beijing\"\n",
    "os.makedirs(output_dir, exist_ok=True)\n",
    "\n",
    "# Save nodes and edges as ESRI Shapefiles\n",
    "start_time = time.time()\n",
    "gdf_nodes.to_file(f\"{output_dir}/nodes.shp\", encoding=\"utf-8\")\n",
    "gdf_edges.to_file(f\"{output_dir}/edges.shp\", encoding=\"utf-8\")\n",
    "print(f\"Graph saved in {output_dir}\")\n",
    "print(\"--- %s seconds ---\" % (time.time() - start_time))\n"
   ]
  },
  {
   "cell_type": "markdown",
   "metadata": {},
   "source": [
    "add missing fid column\n"
   ]
  },
  {
   "cell_type": "code",
   "execution_count": 8,
   "metadata": {},
   "outputs": [
    {
     "name": "stdout",
     "output_type": "stream",
     "text": [
      "Fixed shapefile saved.\n"
     ]
    }
   ],
   "source": [
    "import geopandas as gpd\n",
    "\n",
    "# Load the edges shapefile\n",
    "edges = gpd.read_file(\"../osmnx_example/beijing/edges.shp\")\n",
    "\n",
    "# Add a unique 'fid' column\n",
    "edges[\"fid\"] = edges.index  # Unique index as ID\n",
    "\n",
    "# Save the fixed shapefile\n",
    "edges.to_file(\"../osmnx_example/beijing/edges.shp\", encoding=\"utf-8\")\n",
    "\n",
    "print(\"Fixed shapefile saved.\")"
   ]
  },
  {
   "cell_type": "code",
   "execution_count": 9,
   "metadata": {},
   "outputs": [
    {
     "name": "stdout",
     "output_type": "stream",
     "text": [
      "Index(['u', 'v', 'key', 'osmid', 'highway', 'name', 'ref', 'oneway',\n",
      "       'reversed', 'length', 'bridge', 'lanes', 'maxspeed', 'tunnel', 'access',\n",
      "       'junction', 'width', 'service', 'fid', 'geometry'],\n",
      "      dtype='object')\n"
     ]
    }
   ],
   "source": [
    "edges = gpd.read_file(\"../osmnx_example/beijing/edges.shp\")\n",
    "print(edges.columns)\n"
   ]
  }
 ],
 "metadata": {
  "kernelspec": {
   "display_name": "Python (ox)",
   "language": "python",
   "name": "ox"
  },
  "language_info": {
   "codemirror_mode": {
    "name": "ipython",
    "version": 3
   },
   "file_extension": ".py",
   "mimetype": "text/x-python",
   "name": "python",
   "nbconvert_exporter": "python",
   "pygments_lexer": "ipython3",
   "version": "3.8.4"
  }
 },
 "nbformat": 4,
 "nbformat_minor": 2
}
