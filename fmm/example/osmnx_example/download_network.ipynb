{
 "cells": [
  {
   "cell_type": "code",
   "execution_count": 1,
   "metadata": {},
   "outputs": [
    {
     "name": "stdout",
     "output_type": "stream",
     "text": [
      "osmnx version 2.0.1\n"
     ]
    }
   ],
   "source": [
    "import osmnx as ox\n",
    "import time\n",
    "from shapely.geometry import Polygon\n",
    "import os\n",
    "\n",
    "def save_graph_shapefile_directional(G, filepath=None, encoding=\"utf-8\"):\n",
    "    # default filepath if none was provided\n",
    "    if filepath is None:\n",
    "        filepath = os.path.join(ox.settings.data_folder, \"graph_shapefile\")\n",
    "\n",
    "    # if save folder does not already exist, create it (shapefiles\n",
    "    # get saved as set of files)\n",
    "    if not filepath == \"\" and not os.path.exists(filepath):\n",
    "        os.makedirs(filepath)\n",
    "    filepath_nodes = os.path.join(filepath, \"nodes.shp\")\n",
    "    filepath_edges = os.path.join(filepath, \"edges.shp\")\n",
    "\n",
    "    # convert undirected graph to gdfs and stringify non-numeric columns\n",
    "    gdf_nodes, gdf_edges = ox.utils_graph.graph_to_gdfs(G)\n",
    "    gdf_nodes = ox.io._stringify_nonnumeric_cols(gdf_nodes)\n",
    "    gdf_edges = ox.io._stringify_nonnumeric_cols(gdf_edges)\n",
    "    # We need an unique ID for each edge\n",
    "    gdf_edges[\"fid\"] = gdf_edges.index\n",
    "    # save the nodes and edges as separate ESRI shapefiles\n",
    "    gdf_nodes.to_file(filepath_nodes, encoding=encoding)\n",
    "    gdf_edges.to_file(filepath_edges, encoding=encoding)\n",
    "\n",
    "print(\"osmnx version\",ox.__version__)"
   ]
  },
  {
   "cell_type": "markdown",
   "metadata": {},
   "source": [
    "### Download network in a boundingbox"
   ]
  },
  {
   "cell_type": "code",
   "execution_count": 4,
   "metadata": {},
   "outputs": [
    {
     "ename": "AttributeError",
     "evalue": "module 'osmnx.io' has no attribute 'save_graph_shapefile'",
     "output_type": "error",
     "traceback": [
      "\u001b[0;31m---------------------------------------------------------------------------\u001b[0m",
      "\u001b[0;31mAttributeError\u001b[0m                            Traceback (most recent call last)",
      "Cell \u001b[0;32mIn[4], line 17\u001b[0m\n\u001b[1;32m     15\u001b[0m \u001b[38;5;66;03m# Save graph as a shapefile\u001b[39;00m\n\u001b[1;32m     16\u001b[0m start_time \u001b[38;5;241m=\u001b[39m time\u001b[38;5;241m.\u001b[39mtime()\n\u001b[0;32m---> 17\u001b[0m \u001b[43mox\u001b[49m\u001b[38;5;241;43m.\u001b[39;49m\u001b[43mio\u001b[49m\u001b[38;5;241;43m.\u001b[39;49m\u001b[43msave_graph_shapefile\u001b[49m(G, filepath\u001b[38;5;241m=\u001b[39m\u001b[38;5;124m'\u001b[39m\u001b[38;5;124m./beijing2\u001b[39m\u001b[38;5;124m'\u001b[39m)  \u001b[38;5;66;03m# Updated function call\u001b[39;00m\n\u001b[1;32m     18\u001b[0m \u001b[38;5;28mprint\u001b[39m(\u001b[38;5;124m\"\u001b[39m\u001b[38;5;124m--- \u001b[39m\u001b[38;5;132;01m%s\u001b[39;00m\u001b[38;5;124m seconds ---\u001b[39m\u001b[38;5;124m\"\u001b[39m \u001b[38;5;241m%\u001b[39m (time\u001b[38;5;241m.\u001b[39mtime() \u001b[38;5;241m-\u001b[39m start_time))\n",
      "\u001b[0;31mAttributeError\u001b[0m: module 'osmnx.io' has no attribute 'save_graph_shapefile'"
     ]
    }
   ],
   "source": [
    "import osmnx as ox\n",
    "import time\n",
    "from shapely.geometry import Polygon\n",
    "\n",
    "# Define bounding box coordinates (correcting x1, x2, y1, y2)\n",
    "bounds = (40.09032722446688, 116.10590363281044, 39.771482256675114, 116.66101710094082)\n",
    "y1, x1, y2, x2 = bounds  # Reordering to (lat1, lon1, lat2, lon2)\n",
    "\n",
    "# Create a polygon from bounding box\n",
    "boundary_polygon = Polygon([(x1, y1), (x2, y1), (x2, y2), (x1, y2)])\n",
    "\n",
    "# Get the drive network\n",
    "G = ox.graph_from_polygon(boundary_polygon, network_type='drive')\n",
    "\n",
    "# Save graph as a shapefile\n",
    "start_time = time.time()\n",
    "ox.io.save_graph_shapefile(G, filepath='./beijing2')  # Updated function call\n",
    "print(\"--- %s seconds ---\" % (time.time() - start_time))\n"
   ]
  },
  {
   "cell_type": "markdown",
   "metadata": {},
   "source": [
    "### Download network in a city"
   ]
  },
  {
   "cell_type": "code",
   "execution_count": null,
   "metadata": {},
   "outputs": [
    {
     "name": "stderr",
     "output_type": "stream",
     "text": [
      "/tmp/ipykernel_5834/1322945157.py:19: UserWarning: Column names longer than 10 characters will be truncated when saved to ESRI Shapefile.\n",
      "  gdf_nodes.to_file(os.path.join(output_folder, \"nodes.shp\"))\n",
      "/home/dieter/thesis/trace_obfuscate/.venv/lib/python3.12/site-packages/pyogrio/raw.py:723: RuntimeWarning: Normalized/laundered field name: 'street_count' to 'street_cou'\n",
      "  ogr_write(\n"
     ]
    },
    {
     "name": "stdout",
     "output_type": "stream",
     "text": [
      "Shapefiles saved successfully!\n"
     ]
    },
    {
     "name": "stderr",
     "output_type": "stream",
     "text": [
      "/home/dieter/thesis/trace_obfuscate/.venv/lib/python3.12/site-packages/pyogrio/raw.py:723: RuntimeWarning: Value '[24251534, 234491408, 234491409, 234491410, 24251536, 330331434, 330331435, 293343664, 330331440, 293343666, 318297409, 318297410, 320040770, 284324679, 284324680, 284324682, 82283094, 1349766488, 82283097, 1349766491, 8084216, 8084219, 1349766525, 1349766527]' of field osmid has been truncated to 254 characters.  This warning will not be emitted any more for that layer.\n",
      "  ogr_write(\n"
     ]
    }
   ],
   "source": [
    "import osmnx as ox\n",
    "import geopandas as gpd\n",
    "import os\n",
    "\n",
    "# Define the place\n",
    "place = \"Rome, Italy\"\n",
    "\n",
    "# Download the street network\n",
    "G = ox.graph_from_place(place, network_type=\"drive\", which_result=2)\n",
    "\n",
    "# Convert the graph to GeoDataFrames\n",
    "gdf_nodes, gdf_edges = ox.graph_to_gdfs(G)\n",
    "\n",
    "# Define output folder\n",
    "output_folder = \"rome\"\n",
    "os.makedirs(output_folder, exist_ok=True)\n",
    "\n",
    "# Save nodes and edges as shapefiles\n",
    "gdf_nodes.to_file(os.path.join(output_folder, \"nodes.shp\"))\n",
    "gdf_edges.to_file(os.path.join(output_folder, \"edges.shp\"))\n",
    "\n",
    "import geopandas as gpd\n",
    "\n",
    "# Load the edges shapefile\n",
    "edges = gpd.read_file(\"../osmnx_example/rome/edges.shp\")\n",
    "\n",
    "# Add a unique 'fid' column\n",
    "edges[\"fid\"] = edges.index  # Unique index as ID\n",
    "\n",
    "# Save the fixed shapefile\n",
    "edges.to_file(\"../osmnx_example/rome/edges.shp\", encoding=\"utf-8\")\n",
    "\n",
    "print(\"Fixed shapefile saved.\")\n"
   ]
  },
  {
   "cell_type": "markdown",
   "metadata": {},
   "source": [
    "### Download network with a boundary"
   ]
  },
  {
   "cell_type": "code",
   "execution_count": null,
   "metadata": {},
   "outputs": [],
   "source": [
    "# Download by a boundary polygon in geojson\n",
    "import osmnx as ox\n",
    "from shapely.geometry import shape\n",
    "json_file = open(\"stockholm_boundary.geojson\")\n",
    "import json\n",
    "data = json.load(json_file)\n",
    "boundary_polygon = shape(data[\"features\"][0]['geometry'])\n",
    "G = ox.graph_from_polygon(boundary_polygon, network_type='drive')\n",
    "save_graph_shapefile_directional(G, filepath='stockholm')"
   ]
  },
  {
   "cell_type": "markdown",
   "metadata": {},
   "source": [
    "### Fix for Beijing issues"
   ]
  },
  {
   "cell_type": "code",
   "execution_count": null,
   "metadata": {},
   "outputs": [
    {
     "name": "stderr",
     "output_type": "stream",
     "text": [
      "/tmp/ipykernel_2539/466662973.py:21: UserWarning: Column names longer than 10 characters will be truncated when saved to ESRI Shapefile.\n",
      "  gdf_nodes.to_file(f\"{output_dir}/nodes.shp\", encoding=\"utf-8\")\n",
      "/home/dieter/thesis/trace_obfuscate/.venv/lib/python3.12/site-packages/pyogrio/raw.py:723: RuntimeWarning: Normalized/laundered field name: 'street_count' to 'street_cou'\n",
      "  ogr_write(\n"
     ]
    },
    {
     "name": "stdout",
     "output_type": "stream",
     "text": [
      "Graph saved in ./beijing\n",
      "--- 8.265335321426392 seconds ---\n"
     ]
    }
   ],
   "source": [
    "import osmnx as ox\n",
    "import geopandas as gpd\n",
    "import time\n",
    "import os\n",
    "\n",
    "# Define place name (center of Beijing)\n",
    "place_name = \"Beijing Foreign Studies University\"\n",
    "\n",
    "# Download a drive network within a specified radius (e.g., 10km)\n",
    "G = ox.graph_from_address(place_name, dist=8000, network_type=\"all\")\n",
    "\n",
    "# Convert the graph to GeoDataFrames\n",
    "gdf_nodes, gdf_edges = ox.graph_to_gdfs(G)\n",
    "\n",
    "# Define output directory\n",
    "output_dir = \"./beijing\"\n",
    "os.makedirs(output_dir, exist_ok=True)\n",
    "\n",
    "# Save nodes and edges as ESRI Shapefiles\n",
    "start_time = time.time()\n",
    "gdf_nodes.to_file(f\"{output_dir}/nodes.shp\", encoding=\"utf-8\")\n",
    "gdf_edges.to_file(f\"{output_dir}/edges.shp\", encoding=\"utf-8\")\n",
    "print(f\"Graph saved in {output_dir}\")\n",
    "print(\"--- %s seconds ---\" % (time.time() - start_time))\n"
   ]
  },
  {
   "cell_type": "markdown",
   "metadata": {},
   "source": [
    "add missing fid column\n"
   ]
  },
  {
   "cell_type": "code",
   "execution_count": 2,
   "metadata": {},
   "outputs": [
    {
     "name": "stdout",
     "output_type": "stream",
     "text": [
      "Fixed shapefile saved.\n"
     ]
    }
   ],
   "source": [
    "import geopandas as gpd\n",
    "\n",
    "# Load the edges shapefile\n",
    "edges = gpd.read_file(\"../osmnx_example/rome/edges.shp\")\n",
    "\n",
    "# Add a unique 'fid' column\n",
    "edges[\"fid\"] = edges.index  # Unique index as ID\n",
    "\n",
    "# Save the fixed shapefile\n",
    "edges.to_file(\"../osmnx_example/rome/edges.shp\", encoding=\"utf-8\")\n",
    "\n",
    "print(\"Fixed shapefile saved.\")"
   ]
  },
  {
   "cell_type": "code",
   "execution_count": 17,
   "metadata": {},
   "outputs": [
    {
     "name": "stdout",
     "output_type": "stream",
     "text": [
      "Index(['u', 'v', 'key', 'osmid', 'highway', 'name', 'oneway', 'reversed',\n",
      "       'length', 'service', 'bridge', 'ref', 'lanes', 'tunnel', 'access',\n",
      "       'maxspeed', 'width', 'junction', 'landuse', 'fid', 'geometry'],\n",
      "      dtype='object')\n"
     ]
    }
   ],
   "source": [
    "edges = gpd.read_file(\"../osmnx_example/beijing/edges.shp\")\n",
    "print(edges.columns)\n"
   ]
  }
 ],
 "metadata": {
  "kernelspec": {
   "display_name": ".venv",
   "language": "python",
   "name": "python3"
  },
  "language_info": {
   "codemirror_mode": {
    "name": "ipython",
    "version": 3
   },
   "file_extension": ".py",
   "mimetype": "text/x-python",
   "name": "python",
   "nbconvert_exporter": "python",
   "pygments_lexer": "ipython3",
   "version": "3.12.3"
  }
 },
 "nbformat": 4,
 "nbformat_minor": 2
}
