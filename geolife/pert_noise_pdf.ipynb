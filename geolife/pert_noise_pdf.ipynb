{
 "cells": [
  {
   "cell_type": "code",
   "execution_count": 1,
   "metadata": {},
   "outputs": [],
   "source": [
    "import numpy as np\n",
    "import pandas as pd\n",
    "import plotly.graph_objects as go\n",
    "import read_geolife\n",
    "import tracers as tr\n",
    "import matplotlib.pyplot as plt\n",
    "from pyproj import Transformer\n",
    "import math\n",
    "import seaborn as sns\n",
    "import os"
   ]
  },
  {
   "cell_type": "code",
   "execution_count": 2,
   "metadata": {},
   "outputs": [
    {
     "name": "stdout",
     "output_type": "stream",
     "text": [
      "path not found\n",
      "path not found\n",
      "path not found\n",
      "path not found\n",
      "path not found\n",
      "path not found\n",
      "path not found\n",
      "path not found\n",
      "path not found\n",
      "path not found\n",
      "path not found\n",
      "path not found\n",
      "path not found\n",
      "path not found\n",
      "path not found\n",
      "path not found\n",
      "path not found\n",
      "path not found\n",
      "Total perturbed traces: 4401\n"
     ]
    }
   ],
   "source": [
    "root_path = \"/mnt/d/maart18maxDist500noDROPv2\"\n",
    "perturbed_traces = []\n",
    "\n",
    "space_noise, time_min_period = 80.0, 30 \n",
    "traces = []\n",
    "# Load and perturb traces user by user\n",
    "for i in range(50):\n",
    "    user_path = f'taxi_{i}'\n",
    "    file_path = os.path.join(root_path, user_path)\n",
    "    user_traces = []\n",
    "    \n",
    "    if os.path.exists(file_path):\n",
    "        for file in os.scandir(file_path): \n",
    "            df = pd.read_csv(file, sep=\",\")\n",
    "            \n",
    "            # Convert timestamp to epoch, drop invalid timestamps\n",
    "            df[\"Timestamp\"] = pd.to_datetime(df[\"Timestamp\"], format=\"ISO8601\", errors=\"coerce\").astype(int) / 10**9\n",
    "            df = df.dropna(subset=[\"Timestamp\"])\n",
    "            \n",
    "            # Sort by time\n",
    "            df = df.sort_values(by='Timestamp')\n",
    "\n",
    "            trace = df[['Longitude', 'Latitude', 'Timestamp']].to_numpy()\n",
    "            trace = [(x[0], x[1], int(x[2])) for x in trace]\n",
    "            \n",
    "            user_traces.append(trace)\n",
    "    else:\n",
    "        print(\"path not found\")\n",
    "    if user_traces:\n",
    "        perturbed_user_traces = tr.perturb_traces((space_noise, time_min_period), user_traces, picker_str='closest')\n",
    "        perturbed_traces.extend(perturbed_user_traces)\n",
    "        traces.extend(user_traces)\n",
    "\n",
    "print(f\"Total perturbed traces: {len(perturbed_traces)}\")\n"
   ]
  },
  {
   "cell_type": "code",
   "execution_count": null,
   "metadata": {},
   "outputs": [],
   "source": [
    "noise_distr = []\n",
    "prev_pert_lat = 0\n",
    "prev_pert_lon = 0 \n",
    "\n",
    "for trace_idx in range(len(traces)):\n",
    "  \n",
    "    for point_idx in range(len(traces[trace_idx])):\n",
    "        perturbed_traces_lon, perturbed_traces_lat = perturbed_traces[trace_idx][point_idx][0], perturbed_traces[trace_idx][point_idx][1]\n",
    "        traces_lon, traces_lat = traces[trace_idx][point_idx][0], traces[trace_idx][point_idx][1]\n",
    "\n",
    "        # When perturbed point changes, compare it to the non-perturbed point at the same index\n",
    "        if not (prev_pert_lat == perturbed_traces_lat and prev_pert_lon == perturbed_traces_lon):\n",
    "            current_lat, current_lon = traces_lat, traces_lon\n",
    "    \n",
    "        #ELSE: keep comparing it to the non-perturbed corresponding to the first \n",
    "        # perturbed point of a group perturbed points at the same location \n",
    "        \n",
    "        prev_pert_lon = perturbed_traces_lon\n",
    "        prev_pert_lat = perturbed_traces_lat\n",
    "        noise = tr.rs_geodesic_distance((perturbed_traces_lon,perturbed_traces_lat),(current_lon,current_lat))\n",
    "        noise_distr.append(noise)\n"
   ]
  },
  {
   "cell_type": "code",
   "execution_count": 5,
   "metadata": {},
   "outputs": [
    {
     "data": {
      "image/png": "[encoded data removed]",
      "text/plain": [
       "<Figure size 640x480 with 1 Axes>"
      ]
     },
     "metadata": {},
     "output_type": "display_data"
    },
    {
     "name": "stdout",
     "output_type": "stream",
     "text": [
      "79.99989844380009\n"
     ]
    }
   ],
   "source": [
    "plt.hist(noise_distr,bins=500)\n",
    "plt.title('Perturbation noise pdf')\n",
    "plt.xlabel('[m]')\n",
    "plt.show()\n",
    "print(max(noise_distr))"
   ]
  }
 ],
 "metadata": {
  "kernelspec": {
   "display_name": ".venv",
   "language": "python",
   "name": "python3"
  },
  "language_info": {
   "codemirror_mode": {
    "name": "ipython",
    "version": 3
   },
   "file_extension": ".py",
   "mimetype": "text/x-python",
   "name": "python",
   "nbconvert_exporter": "python",
   "pygments_lexer": "ipython3",
   "version": "3.12.3"
  }
 },
 "nbformat": 4,
 "nbformat_minor": 2
}
