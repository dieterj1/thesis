{
 "cells": [
  {
   "cell_type": "code",
   "execution_count": 1,
   "metadata": {},
   "outputs": [],
   "source": [
    "import tracers as tr\n",
    "import numpy as np\n",
    "import plotly.graph_objects as go\n",
    "import datetime"
   ]
  },
  {
   "cell_type": "code",
   "execution_count": 2,
   "metadata": {},
   "outputs": [
    {
     "name": "stdout",
     "output_type": "stream",
     "text": [
      "2\n"
     ]
    }
   ],
   "source": [
    "mypygraph = tr.PyGraph()\n",
    "print(mypygraph.yendepth)\n",
    "\n",
    "mypygraph.load_graph(\"/home/toon/Documents/PHD/coding/osrm-docker/data-volume/monaco/monaco-latest.osm.pbf\")"
   ]
  },
  {
   "cell_type": "code",
   "execution_count": 6,
   "metadata": {},
   "outputs": [],
   "source": [
    "mypygraph.map_match_multiple_traces([[\n",
    "        (7.4132824, 43.7274446,0),\n",
    "        (7.4149668, 43.7284912,1000),\n",
    "        (7.4164581, 43.7297472,2000),\n",
    "        (7.4188507, 43.7311969,3000),\n",
    "        (7.4214149, 43.7318249,4000),\n",
    "        (7.4230134, 43.7321117,5000),\n",
    "        (7.4216938, 43.7336234,6000),\n",
    "        (7.4212968, 43.7361196,7000),\n",
    "        (7.4257171, 43.7376855,8000),\n",
    "        (7.4252021, 43.7397164,9000),\n",
    "        (7.4232495, 43.7397242,10000),\n",
    "        (7.4217904, 43.7398792,11000),\n",
    "    ]], 50.0, \"./testout/\")"
   ]
  },
  {
   "cell_type": "code",
   "execution_count": null,
   "metadata": {},
   "outputs": [],
   "source": [
    "infile = r\"/home/toon/Documents/PHD/coding/pyrust-docker/tracers/tests/testout/_0.csv\"\n",
    "\n",
    "#even lines are the matched points\n",
    "#odd lines are the original input\n",
    "\n",
    "matches = []\n",
    "ogpoints = []\n",
    "\n",
    "with open(infile, \"r\") as f:\n",
    "    for matchline in f:\n",
    "        matchline = matchline.rstrip()  # remove newline character\n",
    "        if matchline:\n",
    "            # process matchline, it has format int,float,float,int|...\n",
    "            strtupls = matchline.split(\"|\")\n",
    "            matches.append([(int(split[0]),float(split[1]),float(split[2]),int(split[3]))for split in [x.split(\",\") for x in strtupls]])\n",
    "\n",
    "        # origline\n",
    "        origline = f.readline()\n",
    "        #strip\n",
    "        origline = origline.rstrip()\n",
    "        if origline:\n",
    "            # process origline, it has format float,float,int|...\n",
    "            split = origline.split(\",\")\n",
    "            ogpoints.append((float(split[0]),float(split[1]),int(split[2])))\n",
    "\n",
    "\n"
   ]
  },
  {
   "cell_type": "code",
   "execution_count": null,
   "metadata": {},
   "outputs": [],
   "source": [
    "ogpoints"
   ]
  },
  {
   "cell_type": "code",
   "execution_count": null,
   "metadata": {},
   "outputs": [],
   "source": [
    "[x for x in ogpoints]"
   ]
  },
  {
   "cell_type": "code",
   "execution_count": null,
   "metadata": {},
   "outputs": [],
   "source": [
    "fig = go.Figure()\n",
    "fig.add_trace(go.Scattermapbox(\n",
    "    lat=[x[1] for x in ogpoints],\n",
    "    lon=[x[0] for x in ogpoints],\n",
    "    mode='markers',\n",
    "    marker=dict(size=9),\n",
    "    line=dict(width=2),\n",
    "    name=\"Original\"\n",
    "))\n",
    "for matchtrace in matches:\n",
    "    fig.add_trace(go.Scattermapbox(\n",
    "        lon=[x[1] for x in matchtrace],\n",
    "        lat=[x[2] for x in matchtrace],\n",
    "        mode='lines',\n",
    "        marker=dict(size=9),\n",
    "        line=dict(width=2),\n",
    "        name=\"Matched\",\n",
    "        line_color=\"red\"\n",
    "    ))\n",
    "fig.update_layout(\n",
    "    mapbox_style=\"open-street-map\",\n",
    "    mapbox=dict(\n",
    "        center=dict(\n",
    "            lat=43.7274446,\n",
    "            lon=7.4132824\n",
    "        ),\n",
    "        zoom=14\n",
    "    )\n",
    ")"
   ]
  },
  {
   "cell_type": "code",
   "execution_count": null,
   "metadata": {},
   "outputs": [],
   "source": [
    "# # write result[0] to pickle file\n",
    "# import pickle\n",
    "# with open('output/result.pickle', 'wb') as f:\n",
    "#     pickle.dump(result[0], f)\n"
   ]
  },
  {
   "cell_type": "code",
   "execution_count": null,
   "metadata": {},
   "outputs": [],
   "source": [
    "simple_lonlat_list = [\n",
    "    (7.4132824, 43.7274446),\n",
    "    (7.4149668, 43.7284912),\n",
    "    (7.4164581, 43.7297472),\n",
    "    (7.4188507, 43.7311969),\n",
    "    (7.4214149, 43.7318249),\n",
    "    (7.4230134, 43.7321117),\n",
    "    (7.4216938, 43.7336234),\n",
    "    (7.4212968, 43.7361196),\n",
    "    (7.4257171, 43.7376855),\n",
    "    (7.4252021, 43.7397164),\n",
    "    (7.4232495, 43.7397242),\n",
    "    (7.4217904, 43.7398792)\n",
    "]\n",
    "\n",
    "per_simple_lonlat = tr.uniform_perturb_trace(simple_lonlat_list, 20.0)\n"
   ]
  },
  {
   "cell_type": "code",
   "execution_count": null,
   "metadata": {},
   "outputs": [],
   "source": [
    "mypygraph.yendepth = 5"
   ]
  },
  {
   "cell_type": "code",
   "execution_count": null,
   "metadata": {},
   "outputs": [],
   "source": [
    "# (mapmatch_result, mapmatch_microresult) =  mypygraph.map_match_trace(per_simple_lonlat, 200.0)\n",
    "(mapmatch_result, mapmatch_microresult) =  mypygraph.map_match_trace(simple_lonlat_list, 50.0)"
   ]
  },
  {
   "cell_type": "code",
   "execution_count": null,
   "metadata": {},
   "outputs": [],
   "source": [
    "matched_lonlat = [(lon,lat) for (_,lon,lat) in map(mypygraph.get_node_weight, mapmatch_result)]\n",
    "matched_micro_lonlat = [(lon,lat) for (_,lon,lat) in map(mypygraph.get_node_weight, mapmatch_microresult)]\n",
    "\n",
    "# plot the matched_lonlat on the map with plotly mapbox\n",
    "fig = go.Figure(go.Scattermapbox(\n",
    "        lat=[lat for (_,lat) in matched_lonlat],\n",
    "        lon=[lon for (lon,_) in matched_lonlat],\n",
    "        mode='lines',\n",
    "        marker=go.scattermapbox.Marker(\n",
    "            size=9\n",
    "        ),\n",
    "        text=[f'lon: {lon}, lat: {lat}' for (lon,lat) in matched_lonlat]\n",
    "    ))\n",
    "\n",
    "fig.add_trace(go.Scattermapbox(\n",
    "        lat=[lat for (_,lat) in per_simple_lonlat],\n",
    "        lon=[lon for (lon,_) in per_simple_lonlat],\n",
    "        mode='lines',\n",
    "        marker=go.scattermapbox.Marker(\n",
    "            size=9\n",
    "        ),\n",
    "        text=[f'lon: {lon}, lat: {lat}' for (lon,lat) in per_simple_lonlat]\n",
    "    ))\n",
    "\n",
    "fig.add_trace(go.Scattermapbox(\n",
    "        lat=[lat for (_,lat) in matched_micro_lonlat],\n",
    "        lon=[lon for (lon,_) in matched_micro_lonlat],\n",
    "        mode='lines',\n",
    "        marker=go.scattermapbox.Marker(\n",
    "            size=9\n",
    "        ),\n",
    "        text=[f'lon: {lon}, lat: {lat}' for (lon,lat) in matched_micro_lonlat]\n",
    "    ))\n",
    "# set render mode as html\n",
    "fig.update_layout(mapbox_style=\"open-street-map\", mapbox_center_lon=7.4232495, mapbox_center_lat=43.7397242, mapbox_zoom=14)\n",
    "fig.show(renderer=\"browser\")\n"
   ]
  },
  {
   "cell_type": "code",
   "execution_count": null,
   "metadata": {},
   "outputs": [],
   "source": [
    "outputpathlen = tr.get_path_length_lonlat(lonlats=matched_micro_lonlat)\n",
    "inputpathlen = tr.get_path_length_lonlat(per_simple_lonlat)\n",
    "print(f\"input path length: {inputpathlen}\")\n",
    "print(f\"output path length: {outputpathlen}\")\n",
    "print(f\"input/output: {inputpathlen/outputpathlen}\")\n",
    "mypygraph.get_path_length_osmid"
   ]
  },
  {
   "cell_type": "code",
   "execution_count": null,
   "metadata": {},
   "outputs": [],
   "source": [
    "# #pickle the mapmatch_result and mapmatch_microresult\n",
    "# import pickle\n",
    "# with open('output/mapmatch_result.pickle', 'wb') as f:\n",
    "#     pickle.dump(mapmatch_result, f)\n",
    "# with open('output/mapmatch_microresult.pickle', 'wb') as f:\n",
    "#     pickle.dump(mapmatch_microresult, f)\n",
    "    "
   ]
  },
  {
   "cell_type": "code",
   "execution_count": null,
   "metadata": {},
   "outputs": [],
   "source": [
    "flat_indices = np.array(mapmatch_microresult).flatten()\n",
    "microlonlat = [(a,b) for (_,a,b) in map(mypygraph.get_node_weight, flat_indices)]\n",
    "\n",
    "# plot the microresult on the map with plotly mapbox\n",
    "fig = go.Figure(go.Scattermapbox(\n",
    "        lat=[lat for (_,lat) in microlonlat],\n",
    "        lon=[lon for (lon,_) in microlonlat],\n",
    "        mode='lines',\n",
    "        marker=go.scattermapbox.Marker(\n",
    "            size=9\n",
    "        ),\n",
    "        text=[f'lon: {lon}, lat: {lat}' for (lon,lat) in microlonlat]\n",
    "    ))\n",
    "fig.update_layout(mapbox_style=\"open-street-map\", mapbox_center_lon=7.4232495, mapbox_center_lat=43.7397242, mapbox_zoom=14)\n",
    "fig.show(renderer=\"browser\")"
   ]
  },
  {
   "cell_type": "code",
   "execution_count": null,
   "metadata": {},
   "outputs": [],
   "source": [
    "some_candidates_lonlat = [(7.413833400000001, 43.727149000000004), (7.4131941, 43.727364200000004), (7.4133149000000005, 43.727352100000004), (7.413372900000001, 43.7276146), (7.412460500000001, 43.7278712), (7.4131992, 43.7274801), (7.4129911, 43.7275895), (7.412405000000001, 43.727939), (7.4132689, 43.727422700000005), (7.413555400000001, 43.727314), (7.4125347, 43.7278056), (7.4135207, 43.7276101), (7.4132674000000005, 43.7274534), (7.4134023000000004, 43.7274279), (7.4148388, 43.728591300000005), (7.4131967, 43.727426300000005), (7.4140771, 43.727924400000006), (7.4134108, 43.7274444), (7.413232900000001, 43.727405100000006), (7.4133525, 43.727477), (7.4180995, 43.7308279), (7.4134055000000005, 43.7274395), (7.4132483, 43.727421400000004), (7.4132997000000005, 43.7274216), (7.4124891, 43.727847100000005), (7.413246900000001, 43.727396000000006), (7.4131885, 43.727468300000005), (7.412992200000001, 43.7275652), (7.413270300000001, 43.7274049)]\n",
    "\n",
    "# plot them on the map with plotly mapbox\n",
    "fig = go.Figure(go.Scattermapbox(\n",
    "        lat=[lat for (_,lat) in some_candidates_lonlat],\n",
    "        lon=[lon for (lon,_) in some_candidates_lonlat],\n",
    "        mode='lines',\n",
    "        marker=go.scattermapbox.Marker(\n",
    "            size=9\n",
    "        ),\n",
    "        text=[f'lon: {lon}, lat: {lat}' for (lon,lat) in some_candidates_lonlat]\n",
    "    ))\n",
    "fig.update_layout(mapbox_style=\"open-street-map\", mapbox_center_lon=7.4232495, mapbox_center_lat=43.7397242, mapbox_zoom=14)\n",
    "fig.show(renderer=\"browser\")"
   ]
  }
 ],
 "metadata": {
  "kernelspec": {
   "display_name": ".venv",
   "language": "python",
   "name": "python3"
  },
  "language_info": {
   "codemirror_mode": {
    "name": "ipython",
    "version": 3
   },
   "file_extension": ".py",
   "mimetype": "text/x-python",
   "name": "python",
   "nbconvert_exporter": "python",
   "pygments_lexer": "ipython3",
   "version": "3.10.12"
  },
  "orig_nbformat": 4
 },
 "nbformat": 4,
 "nbformat_minor": 2
}
