{
 "cells": [
  {
   "cell_type": "code",
   "execution_count": 1,
   "metadata": {},
   "outputs": [],
   "source": [
    "import tracers as tr\n",
    "import numpy as np\n",
    "import pandas as pd\n",
    "\n",
    "import csv\n",
    "\n",
    "import plotly.graph_objects as go"
   ]
  },
  {
   "cell_type": "code",
   "execution_count": 2,
   "metadata": {},
   "outputs": [],
   "source": [
    "graph = tr.PyGraph()"
   ]
  },
  {
   "cell_type": "code",
   "execution_count": null,
   "metadata": {},
   "outputs": [],
   "source": [
    "graph.load_graph_base()"
   ]
  },
  {
   "cell_type": "code",
   "execution_count": 2,
   "metadata": {},
   "outputs": [],
   "source": [
    "# splittest = "
   ]
  },
  {
   "cell_type": "code",
   "execution_count": 3,
   "metadata": {},
   "outputs": [],
   "source": [
    "splittest = sorted(splittest, key=lambda x: x[2])"
   ]
  },
  {
   "cell_type": "code",
   "execution_count": 4,
   "metadata": {},
   "outputs": [
    {
     "name": "stdout",
     "output_type": "stream",
     "text": [
      "[0, 313, 599]\n"
     ]
    }
   ],
   "source": [
    "tsp = tr.tsp_chopped_reorder_points(splittest,5*60)"
   ]
  },
  {
   "cell_type": "code",
   "execution_count": null,
   "metadata": {},
   "outputs": [],
   "source": [
    "tsp = tr.tsp_reorder_points(splittest[:200])"
   ]
  },
  {
   "cell_type": "code",
   "execution_count": null,
   "metadata": {},
   "outputs": [],
   "source": [
    "tsp = tr.tsp_chunked_reorder_points(splittest,150)"
   ]
  },
  {
   "cell_type": "code",
   "execution_count": null,
   "metadata": {},
   "outputs": [
    {
     "name": "stderr",
     "output_type": "stream",
     "text": [
      "ATTENTION: default value of option mesa_glthread overridden by environment.\n",
      "ATTENTION: default value of option mesa_glthread overridden by environment.\n",
      "ATTENTION: default value of option mesa_glthread overridden by environment.\n",
      "ATTENTION: default value of option mesa_glthread overridden by environment.\n",
      "ATTENTION: default value of option mesa_glthread overridden by environment.\n"
     ]
    },
    {
     "name": "stdout",
     "output_type": "stream",
     "text": [
      "[GFX1-]: Couldn't sanitize RENDERER device: REMBRANDT\n"
     ]
    },
    {
     "name": "stderr",
     "output_type": "stream",
     "text": [
      "ATTENTION: default value of option mesa_glthread overridden by environment.\n",
      "ATTENTION: default value of option mesa_glthread overridden by environment.\n",
      "ATTENTION: default value of option mesa_glthread overridden by environment.\n",
      "ATTENTION: default value of option mesa_glthread overridden by environment.\n"
     ]
    },
    {
     "name": "stdout",
     "output_type": "stream",
     "text": [
      "[GFX1-]: Couldn't sanitize RENDERER device: REMBRANDT\n"
     ]
    },
    {
     "name": "stderr",
     "output_type": "stream",
     "text": [
      "ATTENTION: default value of option mesa_glthread overridden by environment.\n",
      "ATTENTION: default value of option mesa_glthread overridden by environment.\n",
      "ATTENTION: default value of option mesa_glthread overridden by environment.\n",
      "ATTENTION: default value of option mesa_glthread overridden by environment.\n",
      "ATTENTION: default value of option mesa_glthread overridden by environment.\n",
      "ATTENTION: default value of option mesa_glthread overridden by environment.\n",
      "ATTENTION: default value of option mesa_glthread overridden by environment.\n",
      "ATTENTION: default value of option mesa_glthread overridden by environment.\n",
      "ATTENTION: default value of option mesa_glthread overridden by environment.\n",
      "ATTENTION: default value of option mesa_glthread overridden by environment.\n",
      "ATTENTION: default value of option mesa_glthread overridden by environment.\n",
      "ATTENTION: default value of option mesa_glthread overridden by environment.\n",
      "ATTENTION: default value of option mesa_glthread overridden by environment.\n",
      "ATTENTION: default value of option mesa_glthread overridden by environment.\n",
      "ATTENTION: default value of option mesa_glthread overridden by environment.\n"
     ]
    },
    {
     "name": "stdout",
     "output_type": "stream",
     "text": [
      "[GFX1-]: Couldn't sanitize RENDERER device: REMBRANDT\n"
     ]
    },
    {
     "name": "stderr",
     "output_type": "stream",
     "text": [
      "ATTENTION: default value of option mesa_glthread overridden by environment.\n",
      "ATTENTION: default value of option mesa_glthread overridden by environment.\n"
     ]
    },
    {
     "name": "stdout",
     "output_type": "stream",
     "text": [
      "[GFX1-]: Couldn't sanitize RENDERER device: REMBRANDT\n"
     ]
    },
    {
     "name": "stderr",
     "output_type": "stream",
     "text": [
      "ATTENTION: default value of option mesa_glthread overridden by environment.\n",
      "ATTENTION: default value of option mesa_glthread overridden by environment.\n",
      "ATTENTION: default value of option mesa_glthread overridden by environment.\n",
      "ATTENTION: default value of option mesa_glthread overridden by environment.\n",
      "ATTENTION: default value of option mesa_glthread overridden by environment.\n",
      "ATTENTION: default value of option mesa_glthread overridden by environment.\n"
     ]
    },
    {
     "name": "stdout",
     "output_type": "stream",
     "text": [
      "[GFX1-]: Couldn't sanitize RENDERER device: REMBRANDT\n"
     ]
    },
    {
     "name": "stderr",
     "output_type": "stream",
     "text": [
      "ATTENTION: default value of option mesa_glthread overridden by environment.\n"
     ]
    },
    {
     "name": "stdout",
     "output_type": "stream",
     "text": [
      "[GFX1-]: Couldn't sanitize RENDERER device: REMBRANDT\n"
     ]
    },
    {
     "name": "stderr",
     "output_type": "stream",
     "text": [
      "ATTENTION: default value of option mesa_glthread overridden by environment.\n"
     ]
    },
    {
     "name": "stdout",
     "output_type": "stream",
     "text": [
      "[GFX1-]: Couldn't sanitize RENDERER device: REMBRANDT\n"
     ]
    },
    {
     "name": "stderr",
     "output_type": "stream",
     "text": [
      "ATTENTION: default value of option mesa_glthread overridden by environment.\n"
     ]
    },
    {
     "name": "stdout",
     "output_type": "stream",
     "text": [
      "[GFX1-]: Couldn't sanitize RENDERER device: REMBRANDT\n"
     ]
    },
    {
     "name": "stderr",
     "output_type": "stream",
     "text": [
      "ATTENTION: default value of option mesa_glthread overridden by environment.\n"
     ]
    },
    {
     "name": "stdout",
     "output_type": "stream",
     "text": [
      "[GFX1-]: Couldn't sanitize RENDERER device: REMBRANDT\n"
     ]
    },
    {
     "name": "stderr",
     "output_type": "stream",
     "text": [
      "ATTENTION: default value of option mesa_glthread overridden by environment.\n"
     ]
    },
    {
     "name": "stdout",
     "output_type": "stream",
     "text": [
      "[GFX1-]: Couldn't sanitize RENDERER device: REMBRANDT\n"
     ]
    },
    {
     "name": "stderr",
     "output_type": "stream",
     "text": [
      "ATTENTION: default value of option mesa_glthread overridden by environment.\n"
     ]
    },
    {
     "name": "stdout",
     "output_type": "stream",
     "text": [
      "[GFX1-]: Couldn't sanitize RENDERER device: REMBRANDT\n"
     ]
    },
    {
     "name": "stderr",
     "output_type": "stream",
     "text": [
      "ATTENTION: default value of option mesa_glthread overridden by environment.\n"
     ]
    },
    {
     "name": "stdout",
     "output_type": "stream",
     "text": [
      "[GFX1-]: Couldn't sanitize RENDERER device: REMBRANDT\n"
     ]
    },
    {
     "name": "stderr",
     "output_type": "stream",
     "text": [
      "ATTENTION: default value of option mesa_glthread overridden by environment.\n"
     ]
    },
    {
     "name": "stdout",
     "output_type": "stream",
     "text": [
      "[GFX1-]: Couldn't sanitize RENDERER device: REMBRANDT\n"
     ]
    },
    {
     "name": "stderr",
     "output_type": "stream",
     "text": [
      "ATTENTION: default value of option mesa_glthread overridden by environment.\n"
     ]
    },
    {
     "name": "stdout",
     "output_type": "stream",
     "text": [
      "[GFX1-]: Couldn't sanitize RENDERER device: REMBRANDT\n"
     ]
    },
    {
     "name": "stderr",
     "output_type": "stream",
     "text": [
      "ATTENTION: default value of option mesa_glthread overridden by environment.\n"
     ]
    },
    {
     "name": "stdout",
     "output_type": "stream",
     "text": [
      "[GFX1-]: Couldn't sanitize RENDERER device: REMBRANDT\n"
     ]
    },
    {
     "name": "stderr",
     "output_type": "stream",
     "text": [
      "ATTENTION: default value of option mesa_glthread overridden by environment.\n"
     ]
    },
    {
     "name": "stdout",
     "output_type": "stream",
     "text": [
      "[GFX1-]: Couldn't sanitize RENDERER device: REMBRANDT\n"
     ]
    },
    {
     "name": "stderr",
     "output_type": "stream",
     "text": [
      "ATTENTION: default value of option mesa_glthread overridden by environment.\n"
     ]
    },
    {
     "name": "stdout",
     "output_type": "stream",
     "text": [
      "[GFX1-]: Couldn't sanitize RENDERER device: REMBRANDT\n"
     ]
    },
    {
     "name": "stderr",
     "output_type": "stream",
     "text": [
      "ATTENTION: default value of option mesa_glthread overridden by environment.\n"
     ]
    },
    {
     "name": "stdout",
     "output_type": "stream",
     "text": [
      "[GFX1-]: Couldn't sanitize RENDERER device: REMBRANDT\n"
     ]
    },
    {
     "name": "stderr",
     "output_type": "stream",
     "text": [
      "ATTENTION: default value of option mesa_glthread overridden by environment.\n"
     ]
    },
    {
     "name": "stdout",
     "output_type": "stream",
     "text": [
      "[GFX1-]: Couldn't sanitize RENDERER device: REMBRANDT\n"
     ]
    },
    {
     "name": "stderr",
     "output_type": "stream",
     "text": [
      "ATTENTION: default value of option mesa_glthread overridden by environment.\n"
     ]
    },
    {
     "name": "stdout",
     "output_type": "stream",
     "text": [
      "[GFX1-]: Couldn't sanitize RENDERER device: REMBRANDT\n"
     ]
    },
    {
     "name": "stderr",
     "output_type": "stream",
     "text": [
      "ATTENTION: default value of option mesa_glthread overridden by environment.\n"
     ]
    },
    {
     "name": "stdout",
     "output_type": "stream",
     "text": [
      "[GFX1-]: Couldn't sanitize RENDERER device: REMBRANDT\n"
     ]
    },
    {
     "name": "stderr",
     "output_type": "stream",
     "text": [
      "ATTENTION: default value of option mesa_glthread overridden by environment.\n"
     ]
    },
    {
     "name": "stdout",
     "output_type": "stream",
     "text": [
      "[GFX1-]: Couldn't sanitize RENDERER device: REMBRANDT\n"
     ]
    },
    {
     "name": "stderr",
     "output_type": "stream",
     "text": [
      "ATTENTION: default value of option mesa_glthread overridden by environment.\n"
     ]
    },
    {
     "name": "stdout",
     "output_type": "stream",
     "text": [
      "[GFX1-]: Couldn't sanitize RENDERER device: REMBRANDT\n"
     ]
    },
    {
     "name": "stderr",
     "output_type": "stream",
     "text": [
      "ATTENTION: default value of option mesa_glthread overridden by environment.\n"
     ]
    },
    {
     "name": "stdout",
     "output_type": "stream",
     "text": [
      "[GFX1-]: Couldn't sanitize RENDERER device: REMBRANDT\n"
     ]
    },
    {
     "name": "stderr",
     "output_type": "stream",
     "text": [
      "ATTENTION: default value of option mesa_glthread overridden by environment.\n"
     ]
    },
    {
     "name": "stdout",
     "output_type": "stream",
     "text": [
      "[GFX1-]: Couldn't sanitize RENDERER device: REMBRANDT\n"
     ]
    },
    {
     "name": "stderr",
     "output_type": "stream",
     "text": [
      "ATTENTION: default value of option mesa_glthread overridden by environment.\n"
     ]
    },
    {
     "name": "stdout",
     "output_type": "stream",
     "text": [
      "[GFX1-]: Couldn't sanitize RENDERER device: REMBRANDT\n"
     ]
    },
    {
     "name": "stderr",
     "output_type": "stream",
     "text": [
      "ATTENTION: default value of option mesa_glthread overridden by environment.\n"
     ]
    },
    {
     "name": "stdout",
     "output_type": "stream",
     "text": [
      "[GFX1-]: Couldn't sanitize RENDERER device: REMBRANDT\n"
     ]
    },
    {
     "name": "stderr",
     "output_type": "stream",
     "text": [
      "ATTENTION: default value of option mesa_glthread overridden by environment.\n"
     ]
    },
    {
     "name": "stdout",
     "output_type": "stream",
     "text": [
      "[GFX1-]: Couldn't sanitize RENDERER device: REMBRANDT\n"
     ]
    },
    {
     "name": "stderr",
     "output_type": "stream",
     "text": [
      "ATTENTION: default value of option mesa_glthread overridden by environment.\n"
     ]
    },
    {
     "name": "stdout",
     "output_type": "stream",
     "text": [
      "[GFX1-]: Couldn't sanitize RENDERER device: REMBRANDT\n"
     ]
    },
    {
     "name": "stderr",
     "output_type": "stream",
     "text": [
      "ATTENTION: default value of option mesa_glthread overridden by environment.\n"
     ]
    },
    {
     "name": "stdout",
     "output_type": "stream",
     "text": [
      "[GFX1-]: Couldn't sanitize RENDERER device: REMBRANDT\n"
     ]
    },
    {
     "name": "stderr",
     "output_type": "stream",
     "text": [
      "ATTENTION: default value of option mesa_glthread overridden by environment.\n"
     ]
    },
    {
     "name": "stdout",
     "output_type": "stream",
     "text": [
      "[GFX1-]: Couldn't sanitize RENDERER device: REMBRANDT\n"
     ]
    },
    {
     "name": "stderr",
     "output_type": "stream",
     "text": [
      "ATTENTION: default value of option mesa_glthread overridden by environment.\n"
     ]
    },
    {
     "name": "stdout",
     "output_type": "stream",
     "text": [
      "[GFX1-]: Couldn't sanitize RENDERER device: REMBRANDT\n"
     ]
    },
    {
     "name": "stderr",
     "output_type": "stream",
     "text": [
      "ATTENTION: default value of option mesa_glthread overridden by environment.\n"
     ]
    },
    {
     "name": "stdout",
     "output_type": "stream",
     "text": [
      "[GFX1-]: Couldn't sanitize RENDERER device: REMBRANDT\n"
     ]
    },
    {
     "name": "stderr",
     "output_type": "stream",
     "text": [
      "ATTENTION: default value of option mesa_glthread overridden by environment.\n"
     ]
    },
    {
     "name": "stdout",
     "output_type": "stream",
     "text": [
      "[GFX1-]: Couldn't sanitize RENDERER device: REMBRANDT\n"
     ]
    },
    {
     "name": "stderr",
     "output_type": "stream",
     "text": [
      "ATTENTION: default value of option mesa_glthread overridden by environment.\n"
     ]
    },
    {
     "name": "stdout",
     "output_type": "stream",
     "text": [
      "[GFX1-]: Couldn't sanitize RENDERER device: REMBRANDT\n"
     ]
    },
    {
     "name": "stderr",
     "output_type": "stream",
     "text": [
      "ATTENTION: default value of option mesa_glthread overridden by environment.\n"
     ]
    },
    {
     "name": "stdout",
     "output_type": "stream",
     "text": [
      "[GFX1-]: Couldn't sanitize RENDERER device: REMBRANDT\n"
     ]
    },
    {
     "name": "stderr",
     "output_type": "stream",
     "text": [
      "ATTENTION: default value of option mesa_glthread overridden by environment.\n"
     ]
    },
    {
     "name": "stdout",
     "output_type": "stream",
     "text": [
      "[GFX1-]: Couldn't sanitize RENDERER device: REMBRANDT\n"
     ]
    },
    {
     "name": "stderr",
     "output_type": "stream",
     "text": [
      "ATTENTION: default value of option mesa_glthread overridden by environment.\n"
     ]
    },
    {
     "name": "stdout",
     "output_type": "stream",
     "text": [
      "[GFX1-]: Couldn't sanitize RENDERER device: REMBRANDT\n"
     ]
    },
    {
     "name": "stderr",
     "output_type": "stream",
     "text": [
      "ATTENTION: default value of option mesa_glthread overridden by environment.\n"
     ]
    },
    {
     "name": "stdout",
     "output_type": "stream",
     "text": [
      "[GFX1-]: Couldn't sanitize RENDERER device: REMBRANDT\n"
     ]
    },
    {
     "name": "stderr",
     "output_type": "stream",
     "text": [
      "ATTENTION: default value of option mesa_glthread overridden by environment.\n"
     ]
    },
    {
     "name": "stdout",
     "output_type": "stream",
     "text": [
      "[GFX1-]: Couldn't sanitize RENDERER device: REMBRANDT\n"
     ]
    },
    {
     "name": "stderr",
     "output_type": "stream",
     "text": [
      "ATTENTION: default value of option mesa_glthread overridden by environment.\n"
     ]
    },
    {
     "name": "stdout",
     "output_type": "stream",
     "text": [
      "[GFX1-]: Couldn't sanitize RENDERER device: REMBRANDT\n"
     ]
    },
    {
     "name": "stderr",
     "output_type": "stream",
     "text": [
      "ATTENTION: default value of option mesa_glthread overridden by environment.\n"
     ]
    },
    {
     "name": "stdout",
     "output_type": "stream",
     "text": [
      "[GFX1-]: Couldn't sanitize RENDERER device: REMBRANDT\n"
     ]
    },
    {
     "name": "stderr",
     "output_type": "stream",
     "text": [
      "ATTENTION: default value of option mesa_glthread overridden by environment.\n"
     ]
    },
    {
     "name": "stdout",
     "output_type": "stream",
     "text": [
      "[GFX1-]: Couldn't sanitize RENDERER device: REMBRANDT\n"
     ]
    },
    {
     "name": "stderr",
     "output_type": "stream",
     "text": [
      "ATTENTION: default value of option mesa_glthread overridden by environment.\n"
     ]
    },
    {
     "name": "stdout",
     "output_type": "stream",
     "text": [
      "[GFX1-]: Couldn't sanitize RENDERER device: REMBRANDT\n"
     ]
    },
    {
     "name": "stderr",
     "output_type": "stream",
     "text": [
      "ATTENTION: default value of option mesa_glthread overridden by environment.\n"
     ]
    },
    {
     "name": "stdout",
     "output_type": "stream",
     "text": [
      "[GFX1-]: Couldn't sanitize RENDERER device: REMBRANDT\n"
     ]
    },
    {
     "name": "stderr",
     "output_type": "stream",
     "text": [
      "ATTENTION: default value of option mesa_glthread overridden by environment.\n"
     ]
    },
    {
     "name": "stdout",
     "output_type": "stream",
     "text": [
      "[GFX1-]: Couldn't sanitize RENDERER device: REMBRANDT\n"
     ]
    },
    {
     "name": "stderr",
     "output_type": "stream",
     "text": [
      "ATTENTION: default value of option mesa_glthread overridden by environment.\n"
     ]
    },
    {
     "name": "stdout",
     "output_type": "stream",
     "text": [
      "[GFX1-]: Couldn't sanitize RENDERER device: REMBRANDT\n"
     ]
    },
    {
     "name": "stderr",
     "output_type": "stream",
     "text": [
      "ATTENTION: default value of option mesa_glthread overridden by environment.\n"
     ]
    },
    {
     "name": "stdout",
     "output_type": "stream",
     "text": [
      "[GFX1-]: Couldn't sanitize RENDERER device: REMBRANDT\n"
     ]
    },
    {
     "name": "stderr",
     "output_type": "stream",
     "text": [
      "ATTENTION: default value of option mesa_glthread overridden by environment.\n"
     ]
    },
    {
     "name": "stdout",
     "output_type": "stream",
     "text": [
      "[GFX1-]: Couldn't sanitize RENDERER device: REMBRANDT\n"
     ]
    },
    {
     "name": "stderr",
     "output_type": "stream",
     "text": [
      "ATTENTION: default value of option mesa_glthread overridden by environment.\n"
     ]
    },
    {
     "name": "stdout",
     "output_type": "stream",
     "text": [
      "[GFX1-]: Couldn't sanitize RENDERER device: REMBRANDT\n"
     ]
    },
    {
     "name": "stderr",
     "output_type": "stream",
     "text": [
      "ATTENTION: default value of option mesa_glthread overridden by environment.\n"
     ]
    },
    {
     "name": "stdout",
     "output_type": "stream",
     "text": [
      "[GFX1-]: Couldn't sanitize RENDERER device: REMBRANDT\n"
     ]
    },
    {
     "name": "stderr",
     "output_type": "stream",
     "text": [
      "ATTENTION: default value of option mesa_glthread overridden by environment.\n"
     ]
    },
    {
     "name": "stdout",
     "output_type": "stream",
     "text": [
      "[GFX1-]: Couldn't sanitize RENDERER device: REMBRANDT\n"
     ]
    },
    {
     "name": "stderr",
     "output_type": "stream",
     "text": [
      "ATTENTION: default value of option mesa_glthread overridden by environment.\n",
      "[Parent 11212, Main Thread] WARNING: g_object_ref: assertion 'G_IS_OBJECT (object)' failed: 'glib warning', file /builds/worker/checkouts/gecko/toolkit/xre/nsSigHandlers.cpp:187\n",
      "\n",
      "(firefox:11212): GLib-GObject-CRITICAL **: 11:05:43.611: g_object_ref: assertion 'G_IS_OBJECT (object)' failed\n",
      "[Child 47739, Main Thread] WARNING: Unable to open /var/lib/flatpak/exports/share/dconf/profile/user: Permission denied: 'glib warning', file /builds/worker/checkouts/gecko/toolkit/xre/nsSigHandlers.cpp:187\n",
      "\n",
      "(/usr/lib/firefox/firefox-bin:47739): dconf-WARNING **: 11:05:43.663: Unable to open /var/lib/flatpak/exports/share/dconf/profile/user: Permission denied\n",
      "ATTENTION: default value of option mesa_glthread overridden by environment.\n",
      "ATTENTION: default value of option mesa_glthread overridden by environment.\n",
      "ATTENTION: default value of option mesa_glthread overridden by environment.\n"
     ]
    },
    {
     "name": "stdout",
     "output_type": "stream",
     "text": [
      "[GFX1-]: Couldn't sanitize RENDERER device: REMBRANDT\n"
     ]
    },
    {
     "name": "stderr",
     "output_type": "stream",
     "text": [
      "ATTENTION: default value of option mesa_glthread overridden by environment.\n",
      "ATTENTION: default value of option mesa_glthread overridden by environment.\n",
      "ATTENTION: default value of option mesa_glthread overridden by environment.\n"
     ]
    },
    {
     "name": "stdout",
     "output_type": "stream",
     "text": [
      "[GFX1-]: Couldn't sanitize RENDERER device: REMBRANDT\n"
     ]
    },
    {
     "name": "stderr",
     "output_type": "stream",
     "text": [
      "ATTENTION: default value of option mesa_glthread overridden by environment.\n"
     ]
    }
   ],
   "source": [
    "import plotly.graph_objects as go\n",
    "\n",
    "plottarget = tsp \n",
    "\n",
    "fig = go.Figure(go.Scattermapbox(\n",
    "    mode=\"markers+lines\",\n",
    "    lon=[item[0] for item in plottarget],\n",
    "    lat=[item[1] for item in plottarget],\n",
    "    marker={'size': 10},\n",
    "    text=[item[2] for item in plottarget]),\n",
    ")\n",
    "fig.update_layout(\n",
    "    margin={'l': 0, 't': 0, 'b': 0, 'r': 0},\n",
    "    mapbox={\n",
    "        'center': {'lon': 13.4, 'lat': 52.5},\n",
    "        'style': \"open-street-map\",\n",
    "        'center': {'lon': 13.4, 'lat': 52.5},\n",
    "        'zoom': 10})\n",
    "fig.write_html(\"splittrace.html\", auto_open=True)"
   ]
  },
  {
   "cell_type": "code",
   "execution_count": null,
   "metadata": {},
   "outputs": [],
   "source": [
    "belgraph = tr.PyGraph()\n",
    "belgraph.yendepth = 1\n",
    "belgraph.load_graph(\"/home/toon/Documents/PHD/coding/lifesight/datasets/osmdata/belgium-latest.osm.pbf\")\n",
    "\n",
    "df = pd.read_parquet(\"/home/toon/Documents/PHD/coding/lifesight/datasets/BEL-2022-12-19.parquet\")\n",
    "\n",
    "df.rename(columns={\"latitude\": \"lat\", \"longitude\": \"lon\"}, inplace=True)\n",
    "# sort by timestamp\n",
    "df.sort_values(by=\"timestamp\", inplace=True)\n",
    "npdf = [group.to_numpy() for _,group in df.groupby(df.maid)]\n",
    "npdf = [[(item[1],item[2],int(item[3]))for item in trace] for trace in npdf] # remove maid\n",
    "splitnpdf = tr.split_traces_on_time(npdf, 60) # split if delta T longer than 60 seconds\n",
    "# filter all traces with less than 10 points\n",
    "splitnpdf = [trace for trace in splitnpdf if len(trace) > 10]\n",
    "onlylonlat = [[(lon, lat) for (lat, lon, _) in trace] for trace in splitnpdf]"
   ]
  },
  {
   "cell_type": "code",
   "execution_count": null,
   "metadata": {},
   "outputs": [],
   "source": [
    "intrace = [[3.2459380626678467, 51.19184494018555],\n",
    "   [3.2438600063323975, 51.19114685058594],\n",
    "   [3.2424941062927246, 51.187957763671875],\n",
    "   [3.2404839992523193, 51.18453598022461],\n",
    "   [3.239016056060791, 51.18120193481445],\n",
    "   [3.2356491088867188, 51.18098831176758],\n",
    "   [3.2337000370025635, 51.178863525390625],\n",
    "   [3.233644962310791, 51.17732620239258],\n",
    "   [3.233607053756714, 51.171539306640625],\n",
    "   [3.2343780994415283, 51.16444396972656],\n",
    "   [3.2353930473327637, 51.1602668762207],\n",
    "   [3.2440829277038574, 51.158241271972656],\n",
    "   [3.246126890182495, 51.15333938598633],\n",
    "   [3.2432539463043213, 51.148033142089844],\n",
    "   [3.245929002761841, 51.144493103027344],\n",
    "   [3.2489941120147705, 51.14096450805664],\n",
    "   [3.251694917678833, 51.14104080200195],\n",
    "   [3.264662981033325, 51.13761901855469],\n",
    "   [3.279081106185913, 51.1336669921875],\n",
    "   [3.294167995452881, 51.1293830871582],\n",
    "   [3.30936598777771, 51.12521743774414],\n",
    "   [3.3245339393615723, 51.1209831237793],\n",
    "   [3.3397579193115234, 51.11661911010742],\n",
    "   [3.355526924133301, 51.112186431884766],\n",
    "   [3.3705430030822754, 51.10652160644531],\n",
    "   [3.3847360610961914, 51.10088348388672],\n",
    "   [3.3991830348968506, 51.09508514404297],\n",
    "   [3.413635015487671, 51.089290618896484],\n",
    "   [3.4270219802856445, 51.08391571044922],\n",
    "   [3.439232110977173, 51.07902526855469],\n",
    "   [3.445302963256836, 51.07520294189453],\n",
    "   [3.440593957901001, 51.07133483886719],\n",
    "   [3.433274984359741, 51.06621170043945],\n",
    "   [3.4261770248413086, 51.06132888793945],\n",
    "   [3.418992042541504, 51.05621337890625],\n",
    "   [3.413050889968872, 51.050987243652344],\n",
    "   [3.4116690158843994, 51.044376373291016],\n",
    "   [3.4069108963012695, 51.038330078125],\n",
    "   [3.397742986679077, 51.03544235229492],\n",
    "   [3.390238046646118, 51.031158447265625],\n",
    "   [3.3831799030303955, 51.02596664428711],\n",
    "   [3.375303030014038, 51.02175521850586],\n",
    "   [3.3679630756378174, 51.016746520996094],\n",
    "   [3.3620400428771973, 51.01166534423828],\n",
    "   [3.352471113204956, 51.008487701416016],\n",
    "   [3.3444180488586426, 51.005348205566406]]\n"
   ]
  },
  {
   "cell_type": "code",
   "execution_count": null,
   "metadata": {},
   "outputs": [],
   "source": [
    "\n",
    "outtrace =  belgraph.map_match_trace([(a,b) for [a,b] in intrace],30)\n"
   ]
  },
  {
   "cell_type": "code",
   "execution_count": null,
   "metadata": {},
   "outputs": [],
   "source": [
    "# convert outtrace to lon lat\n",
    "outlonlat = [[lon, lat ,t ] for (t,[lon,lat]) in enumerate([[lon,lat] for [_,lon,lat] in [belgraph.get_node_weight(nodeid) for nodeid in outtrace[1]]])]\n",
    "outlonlat"
   ]
  },
  {
   "cell_type": "code",
   "execution_count": null,
   "metadata": {},
   "outputs": [],
   "source": [
    "# augment intrace with index self\n",
    "intrace = [[lon,lat,i] for (i, [lon,lat]) in enumerate(intrace)]\n"
   ]
  },
  {
   "cell_type": "code",
   "execution_count": null,
   "metadata": {},
   "outputs": [],
   "source": [
    "\n",
    "t=100\n",
    "fig = go.Figure(go.Scattermapbox())\n",
    "fig.add_trace(go.Scattermapbox(\n",
    "    mode=\"lines\",\n",
    "    lon=[item[0] for item in intrace[:t]],\n",
    "    lat=[item[1] for item in intrace[:t]],\n",
    "    marker={'size': 20, 'color': 'black'},\n",
    "    #show index on hover\n",
    "    text=[str(item[2]) for item in intrace[:t]]),\n",
    "    )\n",
    "fig.add_trace(go.Scattermapbox(\n",
    "    mode=\"lines\",\n",
    "    lon=[float(item[0]) for item in outlonlat],\n",
    "    lat=[float(item[1]) for item in outlonlat],\n",
    "    marker={'size': 10, 'color': 'red'},\n",
    "    text=[str(item[2]) for item in outlonlat]),\n",
    "    )\n",
    "\n",
    "fig.update_layout(\n",
    "        margin={'l': 0, 't': 0, 'b': 0, 'r': 0},\n",
    "        mapbox={\n",
    "            'center': {'lon': 4.5, 'lat': 50.5},\n",
    "            'style': \"open-street-map\",\n",
    "            'zoom': 5})\n",
    "fig.write_html(r\"./output/quick2.html\")\n"
   ]
  },
  {
   "cell_type": "code",
   "execution_count": null,
   "metadata": {},
   "outputs": [],
   "source": [
    "tracenr=0\n",
    "for trace in onlylonlat[:5]:\n",
    "    try:\n",
    "        print(f\"Trying to matching trace nr: {tracenr}\")\n",
    "        # assumption: if larger than 30 it's bad quality\n",
    "        _, matched_ids = belgraph.map_match_trace(trace,30.0)\n",
    "        inpathlen = int(tr.get_path_length_lonlat(trace))\n",
    "        outpathlen = int(belgraph.get_path_length_osmid(matched_ids))\n",
    "        \n",
    "\n",
    "        with open(f\"mapmatchoutput/matched_test\", mode='a', newline='\\n') as outfile:\n",
    "            writer = csv.writer(outfile)\n",
    "            writer.writerow(matched_ids)\n",
    "        with open(f\"mapmatchinput/success_test\", mode='a', newline='\\n') as outfile:\n",
    "            writer = csv.writer(outfile)\n",
    "            writer.writerow(trace)\n",
    "\n",
    "        with open(f\"mapmatchinput/pathlengths_test\", mode='a',  newline='\\n' ) as outfile:\n",
    "            writer = csv.writer(outfile)\n",
    "            writer.writerow([inpathlen,outpathlen])\n",
    "    \n",
    "    except:\n",
    "        print(f\"couldn't match in trace with input: {trace}\")\n",
    "        \n",
    "    tracenr+=1"
   ]
  },
  {
   "cell_type": "code",
   "execution_count": null,
   "metadata": {},
   "outputs": [],
   "source": [
    "anothertrace = [(3.3110181, 51.1247153), (3.3110181, 51.1247153), (3.3110181, 51.1247153), (3.3202029, 51.122144), (3.3212997, 51.1218324), (3.3227705, 51.1214145), (3.3227705, 51.1214145), (3.3265528, 51.1203653)]\n",
    "# plot latlon on map \n",
    "fig = go.Figure(go.Scattermapbox())\n",
    "fig.add_trace(go.Scattermapbox(\n",
    "    mode=\"lines\",\n",
    "    lon=[item[0] for item in anothertrace],\n",
    "    lat=[item[1] for item in anothertrace],\n",
    "    marker={'size': 20, 'color': 'black'},\n",
    "    ))\n",
    "fig.update_layout(\n",
    "        margin={'l': 0, 't': 0, 'b': 0, 'r': 0},\n",
    "        mapbox={\n",
    "            'center': {'lon': 4.5, 'lat': 50.5},\n",
    "            'style': \"open-street-map\",\n",
    "            'zoom': 5})\n",
    "fig.write_html(r\"./output/quick3.html\")"
   ]
  }
 ],
 "metadata": {
  "kernelspec": {
   "display_name": ".venv",
   "language": "python",
   "name": "python3"
  },
  "language_info": {
   "codemirror_mode": {
    "name": "ipython",
    "version": 3
   },
   "file_extension": ".py",
   "mimetype": "text/x-python",
   "name": "python",
   "nbconvert_exporter": "python",
   "pygments_lexer": "ipython3",
   "version": "3.10.12"
  }
 },
 "nbformat": 4,
 "nbformat_minor": 2
}
