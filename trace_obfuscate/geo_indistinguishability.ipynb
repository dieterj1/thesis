{
 "cells": [
  {
   "cell_type": "code",
   "execution_count": 4,
   "metadata": {},
   "outputs": [
    {
     "ename": "ModuleNotFoundError",
     "evalue": "No module named 'plotly'",
     "output_type": "error",
     "traceback": [
      "\u001b[31m---------------------------------------------------------------------------\u001b[39m",
      "\u001b[31mModuleNotFoundError\u001b[39m                       Traceback (most recent call last)",
      "\u001b[36mCell\u001b[39m\u001b[36m \u001b[39m\u001b[32mIn[4]\u001b[39m\u001b[32m, line 4\u001b[39m\n\u001b[32m      2\u001b[39m \u001b[38;5;28;01mimport\u001b[39;00m\u001b[38;5;250m \u001b[39m\u001b[34;01mpandas\u001b[39;00m\u001b[38;5;250m \u001b[39m\u001b[38;5;28;01mas\u001b[39;00m\u001b[38;5;250m \u001b[39m\u001b[34;01mpd\u001b[39;00m\n\u001b[32m      3\u001b[39m \u001b[38;5;28;01mimport\u001b[39;00m\u001b[38;5;250m \u001b[39m\u001b[34;01mtracers\u001b[39;00m\u001b[38;5;250m \u001b[39m\u001b[38;5;28;01mas\u001b[39;00m\u001b[38;5;250m \u001b[39m\u001b[34;01mtr\u001b[39;00m\n\u001b[32m----> \u001b[39m\u001b[32m4\u001b[39m \u001b[38;5;28;01mimport\u001b[39;00m\u001b[38;5;250m \u001b[39m\u001b[34;01mplotly\u001b[39;00m\u001b[34;01m.\u001b[39;00m\u001b[34;01mgraph_objects\u001b[39;00m\u001b[38;5;250m \u001b[39m\u001b[38;5;28;01mas\u001b[39;00m\u001b[38;5;250m \u001b[39m\u001b[34;01mgo\u001b[39;00m\n\u001b[32m      5\u001b[39m \u001b[38;5;28;01mfrom\u001b[39;00m\u001b[38;5;250m \u001b[39m\u001b[34;01mGeoPrivacy\u001b[39;00m\u001b[34;01m.\u001b[39;00m\u001b[34;01mmechanism\u001b[39;00m\u001b[38;5;250m \u001b[39m\u001b[38;5;28;01mimport\u001b[39;00m random_laplace_noise\n\u001b[32m      6\u001b[39m \u001b[38;5;28;01mfrom\u001b[39;00m\u001b[38;5;250m \u001b[39m\u001b[34;01mpyproj\u001b[39;00m\u001b[38;5;250m \u001b[39m\u001b[38;5;28;01mimport\u001b[39;00m Transformer\n",
      "\u001b[31mModuleNotFoundError\u001b[39m: No module named 'plotly'"
     ]
    }
   ],
   "source": [
    "\n",
    "import numpy as np \n",
    "import pandas as pd\n",
    "import tracers as tr\n",
    "import plotly.graph_objects as go\n",
    "from GeoPrivacy.mechanism import random_laplace_noise\n",
    "from pyproj import Transformer"
   ]
  },
  {
   "cell_type": "markdown",
   "metadata": {},
   "source": [
    "## Raw data\n",
    "\n",
    "One taxi in the romataxi crawdad data set"
   ]
  },
  {
   "cell_type": "code",
   "execution_count": 2,
   "metadata": {},
   "outputs": [],
   "source": [
    "df = pd.read_csv('taxidata/taxi_156.csv')\n",
    "# covert timestamp to epoch\n",
    "df['Timestamp'] = pd.to_datetime(df['Timestamp']).astype(int) / 10**9\n",
    "# sort by time\n",
    "df = df.sort_values(by='Timestamp')\n",
    "# to array on (lon,lat)\n",
    "trace = df[['Longitude','Latitude','Timestamp']].to_numpy()\n",
    "# take only 1000 points\n",
    "trace = trace[:1000]\n",
    "# trace holds tuples instead of arrays\n",
    "trace = [tuple(x) for x in trace]\n",
    "#time float to int\n",
    "trace = [(x[0],x[1],int(x[2])) for x in trace]\n"
   ]
  },
  {
   "cell_type": "code",
   "execution_count": null,
   "metadata": {},
   "outputs": [],
   "source": [
    "fig = go.Figure()\n",
    "fig.add_trace(go.Scattermapbox(\n",
    "    lat=[b for a,b,c in trace],\n",
    "    lon=[a for a,b,c in trace],\n",
    "    mode='lines+markers',\n",
    "    marker=go.scattermapbox.Marker(\n",
    "        size=9\n",
    "    ),\n",
    "    text=df['Timestamp']\n",
    "))\n",
    "center_of_rome = [41.9028, 12.4964]\n",
    "fig.update_layout(mapbox_style=\"open-street-map\",mapbox_center_lon=center_of_rome[1], mapbox_center_lat=center_of_rome[0],mapbox_zoom=10)\n",
    "fig.show()"
   ]
  },
  {
   "cell_type": "markdown",
   "metadata": {},
   "source": [
    "## Geo-indistinguishability using planar Laplace mechanism\n",
    "https://github.com/quao627/GeoPrivacy/blob/main/GeoPrivacy/mechanism.py"
   ]
  },
  {
   "cell_type": "code",
   "execution_count": 4,
   "metadata": {},
   "outputs": [],
   "source": [
    "eps = 0.05\n",
    "noisy_trace = []\n",
    "\n",
    "# Italy in UTM 33N \n",
    "utm_to_wgs84 = Transformer.from_crs(3065, 4326, always_xy=True)\n",
    "wgs84_to_utm = Transformer.from_crs(4326, 3065, always_xy=True)\n",
    "\n",
    "\n",
    "for i in trace:\n",
    "    noise = random_laplace_noise(eps)  \n",
    "    x,y = wgs84_to_utm.transform(i[1],i[0]) \n",
    "    noisy_x = x + noise[0]\n",
    "    noisy_y = y + noise [1]\n",
    "\n",
    "    noisy_lat, noisy_lon = utm_to_wgs84.transform(noisy_x,noisy_y) \n",
    "    noisy_point = (noisy_lon,noisy_lat,i[2])\n",
    "    noisy_trace.append(noisy_point) \n",
    "\n"
   ]
  },
  {
   "cell_type": "code",
   "execution_count": null,
   "metadata": {},
   "outputs": [],
   "source": [
    "fig.add_trace(go.Scattermapbox(\n",
    "    lon=[a for a, b, c in noisy_trace],\n",
    "    lat=[b for a, b, c in noisy_trace],\n",
    "    mode='lines+markers',\n",
    "    line_color=\"green\",\n",
    "    marker=go.scattermapbox.Marker(size=9),\n",
    "))"
   ]
  }
 ],
 "metadata": {
  "kernelspec": {
   "display_name": ".venv",
   "language": "python",
   "name": "python3"
  },
  "language_info": {
   "codemirror_mode": {
    "name": "ipython",
    "version": 3
   },
   "file_extension": ".py",
   "mimetype": "text/x-python",
   "name": "python",
   "nbconvert_exporter": "python",
   "pygments_lexer": "ipython3",
   "version": "3.12.3"
  }
 },
 "nbformat": 4,
 "nbformat_minor": 2
}
