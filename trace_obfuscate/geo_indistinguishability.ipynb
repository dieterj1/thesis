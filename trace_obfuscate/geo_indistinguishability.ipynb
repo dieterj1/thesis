{
 "cells": [
  {
   "cell_type": "code",
   "execution_count": 1,
   "metadata": {},
   "outputs": [],
   "source": [
    "\n",
    "import numpy as np \n",
    "import pandas as pd\n",
    "import tracers as tr\n",
    "import plotly.graph_objects as go\n",
    "from GeoPrivacy.mechanism import random_laplace_noise\n",
    "from pyproj import Transformer"
   ]
  },
  {
   "cell_type": "markdown",
   "metadata": {},
   "source": [
    "## Raw data\n",
    "\n",
    "One taxi in the romataxi crawdad data set"
   ]
  },
  {
   "cell_type": "code",
   "execution_count": 2,
   "metadata": {},
   "outputs": [],
   "source": [
    "df = pd.read_csv('taxidata/taxi_156.csv')\n",
    "# covert timestamp to epoch\n",
    "df['Timestamp'] = pd.to_datetime(df['Timestamp']).astype(int) / 10**9\n",
    "# sort by time\n",
    "df = df.sort_values(by='Timestamp')\n",
    "# to array on (lon,lat)\n",
    "trace = df[['Longitude','Latitude','Timestamp']].to_numpy()\n",
    "# take only 1000 points\n",
    "trace = trace[:1000]\n",
    "# trace holds tuples instead of arrays\n",
    "trace = [tuple(x) for x in trace]\n",
    "#time float to int\n",
    "trace = [(x[0],x[1],int(x[2])) for x in trace]\n"
   ]
  },
  {
   "cell_type": "code",
   "execution_count": null,
   "metadata": {},
   "outputs": [],
   "source": [
    "fig = go.Figure()\n",
    "fig.add_trace(go.Scattermapbox(\n",
    "    lat=[b for a,b,c in trace],\n",
    "    lon=[a for a,b,c in trace],\n",
    "    mode='lines+markers',\n",
    "    marker=go.scattermapbox.Marker(\n",
    "        size=9\n",
    "    ),\n",
    "    text=df['Timestamp']\n",
    "))\n",
    "center_of_rome = [41.9028, 12.4964]\n",
    "fig.update_layout(mapbox_style=\"open-street-map\",mapbox_center_lon=center_of_rome[1], mapbox_center_lat=center_of_rome[0],mapbox_zoom=10)\n",
    "fig.show()"
   ]
  },
  {
   "cell_type": "markdown",
   "metadata": {},
   "source": [
    "## Geo-indistinguishability using planar Laplace mechanism\n",
    "https://github.com/quao627/GeoPrivacy/blob/main/GeoPrivacy/mechanism.py"
   ]
  },
  {
   "cell_type": "code",
   "execution_count": 4,
   "metadata": {},
   "outputs": [],
   "source": [
    "eps = 0.05\n",
    "noisy_trace = []\n",
    "\n",
    "# Italy in UTM 33N \n",
    "utm_to_wgs84 = Transformer.from_crs(3065, 4326, always_xy=True)\n",
    "wgs84_to_utm = Transformer.from_crs(4326, 3065, always_xy=True)\n",
    "\n",
    "\n",
    "for i in trace:\n",
    "    noise = random_laplace_noise(eps)  \n",
    "    x,y = wgs84_to_utm.transform(i[1],i[0]) \n",
    "    noisy_x = x + noise[0]\n",
    "    noisy_y = y + noise [1]\n",
    "\n",
    "    noisy_lat, noisy_lon = utm_to_wgs84.transform(noisy_x,noisy_y) \n",
    "    noisy_point = (noisy_lon,noisy_lat,i[2])\n",
    "    noisy_trace.append(noisy_point) \n",
    "\n"
   ]
  },
  {
   "cell_type": "code",
   "execution_count": null,
   "metadata": {},
   "outputs": [],
   "source": [
    "fig.add_trace(go.Scattermapbox(\n",
    "    lon=[a for a, b, c in noisy_trace],\n",
    "    lat=[b for a, b, c in noisy_trace],\n",
    "    mode='lines+markers',\n",
    "    line_color=\"green\",\n",
    "    marker=go.scattermapbox.Marker(size=9),\n",
    "))"
   ]
  }
 ],
 "metadata": {
  "kernelspec": {
   "display_name": ".venv",
   "language": "python",
   "name": "python3"
  },
  "language_info": {
   "codemirror_mode": {
    "name": "ipython",
    "version": 3
   },
   "file_extension": ".py",
   "mimetype": "text/x-python",
   "name": "python",
   "nbconvert_exporter": "python",
   "pygments_lexer": "ipython3",
   "version": "3.12.3"
  }
 },
 "nbformat": 4,
 "nbformat_minor": 2
}
